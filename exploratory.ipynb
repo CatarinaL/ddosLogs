{
 "cells": [
  {
   "cell_type": "markdown",
   "metadata": {},
   "source": [
    "---\n",
    "\n",
    "title: \"ddos logs arff format test\"\n",
    "output: html_notebook\n",
    "\n",
    "---\n",
    "\n",
    "Data from: https://www.kaggle.com/jacobvs/ddos-attack-network-logs\n",
    "\n",
    "> The data was collected from a larger-scale network and thus depending on your usage you can ignore a lot of the first attributes of the dataset as they're more network specific.\n",
    "\n",
    "## Context\n",
    "The dataset contains around 2,100,000 labelled network logs from various types of network attacks.\n",
    "The types of network attacks logged are: UDP-Flood, Smurf, SIDDOS, HTTP-FLOOD, & Normal traffic\n",
    "\n",
    "## Content\n",
    "Each line of data contains these attributes:\n",
    "\n",
    "* @attribute SRC_ADD numeric\n",
    "* @attribute DES_ADD numeric\n",
    "* @attribute PKT_ID numeric\n",
    "* @attribute FROM_NODE numeric\n",
    "* @attribute TO_NODE numeric\n",
    "* @attribute PKT_TYPE {tcp,ack,cbr,ping}\n",
    "* @attribute PKT_SIZE numeric\n",
    "* @attribute FLAGS {-------,---A---}\n",
    "* @attribute FID numeric\n",
    "* @attribute SEQ_NUMBER numeric\n",
    "* @attribute NUMBEROFPKT numeric\n",
    "* @attribute NUMBEROFBYTE numeric\n",
    "* @attribute NODENAMEFROM {Switch1,Router,server1,router,clien-4,client-2,Switch2,client-5,clien-9,clien-2,clien-1,clien-14,clien-5,clien-11,clien-13,clien-0,switch1,client-4,clienthttp,clien-7,clien-19,client-14,clien-12,clien-8,clien-15,webserverlistin,client-18,client-1,switch2,clien-6,client-10,client-7,webcache,clien-10,client-15,clien-3,client-17,client-16,clien-17,clien-18,client-12,client-8,client-0,clien-16,client-13,client-11,client-6,client-3,client-9,client-19,http_client}\n",
    "* @attribute NODENAMETO {Router,server1,Switch2,Switch1,clien-1,clien-5,clien-7,switch1,clien-11,clien-15,clien-13,clien-3,clien-9,clien-6,router,clien-4,clien-14,switch2,clien-8,clienthttp,webcache,clien-10,clien-12,webserverlistin,clien-0,clien-2,http_client,client-13,client-9,client-1,client-19,client-4,client-17,client-7,client-3,client-12,client-2,clien-18,client-16,clien-17,client-0,clien-16,client-18,client-5,client-11,client-14,client-8,client-6,client-10,clien-19,client-15}\n",
    "* @attribute PKT_IN numeric\n",
    "* @attribute PKT_OUT numeric\n",
    "* @attribute PKT_R numeric\n",
    "* @attribute PKTDELAYNODE numeric\n",
    "* @attribute PKT_RATE numeric\n",
    "* @attribute BYTE_RATE numeric\n",
    "* @attribute PKTAVGSIZE numeric\n",
    "* @attribute UTILIZATION numeric\n",
    "* @attribute PKT_DELAY numeric\n",
    "* @attribute PKTSENDTIME numeric\n",
    "* @attribute PKTRESEVEDTIME numeric\n",
    "* @attribute FIRSTPKTSENT numeric\n",
    "* @attribute LASTPKTRESEVED numeric\n",
    "* @attribute PKT_CLASS {Normal,UDP-Flood,Smurf,SIDDOS,HTTP-FLOOD}"
   ]
  },
  {
   "cell_type": "code",
   "execution_count": 1,
   "metadata": {},
   "outputs": [
    {
     "name": "stderr",
     "output_type": "stream",
     "text": [
      "Loading required package: farff\n",
      "\n",
      "Warning message:\n",
      "\"package 'farff' was built under R version 3.6.3\"\n",
      "Loading required package: tidyverse\n",
      "\n",
      "-- \u001b[1mAttaching packages\u001b[22m --------------------------------------- tidyverse 1.3.0 --\n",
      "\n",
      "\u001b[32mv\u001b[39m \u001b[34mggplot2\u001b[39m 3.2.1     \u001b[32mv\u001b[39m \u001b[34mpurrr  \u001b[39m 0.3.3\n",
      "\u001b[32mv\u001b[39m \u001b[34mtibble \u001b[39m 2.1.3     \u001b[32mv\u001b[39m \u001b[34mdplyr  \u001b[39m 0.8.3\n",
      "\u001b[32mv\u001b[39m \u001b[34mtidyr  \u001b[39m 1.0.0     \u001b[32mv\u001b[39m \u001b[34mstringr\u001b[39m 1.4.0\n",
      "\u001b[32mv\u001b[39m \u001b[34mreadr  \u001b[39m 1.3.1     \u001b[32mv\u001b[39m \u001b[34mforcats\u001b[39m 0.4.0\n",
      "\n",
      "-- \u001b[1mConflicts\u001b[22m ------------------------------------------ tidyverse_conflicts() --\n",
      "\u001b[31mx\u001b[39m \u001b[34mdplyr\u001b[39m::\u001b[32mfilter()\u001b[39m masks \u001b[34mstats\u001b[39m::filter()\n",
      "\u001b[31mx\u001b[39m \u001b[34mdplyr\u001b[39m::\u001b[32mlag()\u001b[39m    masks \u001b[34mstats\u001b[39m::lag()\n",
      "\n",
      "Loading required package: caret\n",
      "\n",
      "Warning message:\n",
      "\"package 'caret' was built under R version 3.6.3\"\n",
      "Loading required package: lattice\n",
      "\n",
      "\n",
      "Attaching package: 'caret'\n",
      "\n",
      "\n",
      "The following object is masked from 'package:purrr':\n",
      "\n",
      "    lift\n",
      "\n",
      "\n",
      "Loading required package: nnet\n",
      "\n",
      "Warning message:\n",
      "\"package 'nnet' was built under R version 3.6.3\"\n",
      "Parse with reader=readr : data/final-dataset.arff\n",
      "\n",
      "header: 0.060000; preproc: 5.330000; data: 8.800000; postproc: 0.140000; total: 14.330000\n",
      "\n"
     ]
    },
    {
     "data": {
      "text/plain": [
       "    SRC_ADD         DES_ADD          PKT_ID         FROM_NODE    \n",
       " Min.   : 0.00   Min.   : 0.00   Min.   :     0   Min.   : 0.00  \n",
       " 1st Qu.: 7.00   1st Qu.:11.00   1st Qu.:101433   1st Qu.:21.00  \n",
       " Median :14.00   Median :24.13   Median :281488   Median :22.00  \n",
       " Mean   :14.46   Mean   :18.24   Mean   :290274   Mean   :19.59  \n",
       " 3rd Qu.:24.13   3rd Qu.:24.37   3rd Qu.:461544   3rd Qu.:23.00  \n",
       " Max.   :26.00   Max.   :26.00   Max.   :641599   Max.   :26.00  \n",
       "                                                                 \n",
       "    TO_NODE      PKT_TYPE         PKT_SIZE         FLAGS        \n",
       " Min.   : 0.00   tcp :808394   Min.   :   55   -------:2159876  \n",
       " 1st Qu.:21.00   ack :787530   1st Qu.:   55   ---A---:    792  \n",
       " Median :23.00   cbr :556344   Median : 1000                    \n",
       " Mean   :20.83   ping:  8400   Mean   : 1049                    \n",
       " 3rd Qu.:23.00                 3rd Qu.: 1540                    \n",
       " Max.   :26.00                 Max.   :65535                    \n",
       "                                                                \n",
       "      FID          SEQ_NUMBER      NUMBER_OF_PKT   NUMBER_OF_BYTE    \n",
       " Min.   : 0.00   Min.   :     -1   Min.   :    9   Min.   :     495  \n",
       " 1st Qu.: 5.00   1st Qu.:   2353   1st Qu.: 9108   1st Qu.:  885060  \n",
       " Median :11.00   Median :   5555   Median :16091   Median : 6250000  \n",
       " Mean   :13.95   Mean   :  18559   Mean   :13472   Mean   :11390952  \n",
       " 3rd Qu.:21.00   3rd Qu.:  10747   3rd Qu.:16092   3rd Qu.:24780100  \n",
       " Max.   :40.00   Max.   :3015537   Max.   :16103   Max.   :24798600  \n",
       "                                                                     \n",
       " NODE_NAME_FROM    NODE_NAME_TO        PKT_IN         PKT_OUT     \n",
       " Router :641580   Router :641580   Min.   : 0.00   Min.   : 0.00  \n",
       " Switch1:385484   server1:445876   1st Qu.:16.69   1st Qu.:16.69  \n",
       " server1:260428   Switch1:385484   Median :30.95   Median :30.95  \n",
       " Switch2:256096   Switch2:256096   Mean   :31.35   Mean   :31.35  \n",
       " router : 73004   router : 73013   3rd Qu.:43.78   3rd Qu.:43.78  \n",
       " switch1: 40447   switch1: 40452   Max.   :76.00   Max.   :76.00  \n",
       " (Other):503629   (Other):318167                                  \n",
       "     PKT_R       PKT_DELAY_NODE         PKT_RATE          BYTE_RATE        \n",
       " Min.   : 0.01   Min.   :-0.039216   Min.   :   0.978   Min.   :     53.8  \n",
       " 1st Qu.:16.70   1st Qu.: 0.000000   1st Qu.: 328.113   1st Qu.:  18057.4  \n",
       " Median :30.96   Median : 0.000000   Median : 328.218   Median : 124943.0  \n",
       " Mean   :31.36   Mean   : 0.001033   Mean   : 347.640   Mean   : 331912.5  \n",
       " 3rd Qu.:43.79   3rd Qu.: 0.000000   3rd Qu.: 328.460   3rd Qu.: 505526.0  \n",
       " Max.   :76.00   Max.   : 0.114464   Max.   :1118.279   Max.   :1677420.0  \n",
       "                                                                           \n",
       "  PKT_AVG_SIZE    UTILIZATION         PKT_DELAY         PKT_SEND_TIME  \n",
       " Min.   :   55   Min.   :0.000005   Min.   :-0.114464   Min.   : 0.00  \n",
       " 1st Qu.:   55   1st Qu.:0.008441   1st Qu.: 0.000000   1st Qu.:16.67  \n",
       " Median : 1000   Median :0.059605   Median : 0.000000   Median :30.94  \n",
       " Mean   : 1049   Mean   :0.108633   Mean   : 0.005841   Mean   :31.34  \n",
       " 3rd Qu.: 1540   3rd Qu.:0.236321   3rd Qu.: 0.000843   3rd Qu.:43.77  \n",
       " Max.   :65535   Max.   :0.236498   Max.   : 0.153680   Max.   :75.99  \n",
       "                                                                       \n",
       " PKT_RESEVED_TIME   FIRST_PKT_SENT   LAST_PKT_RESEVED      PKT_CLASS      \n",
       " Min.   : 0.03002   Min.   : 0.000   Min.   : 1.756   Normal    :1935959  \n",
       " 1st Qu.:16.70575   1st Qu.: 1.000   1st Qu.:50.022   UDP-Flood : 201344  \n",
       " Median :30.97066   Median : 1.030   Median :50.041   Smurf     :  12590  \n",
       " Mean   :31.37406   Mean   : 5.175   Mean   :50.686   SIDDOS    :   6665  \n",
       " 3rd Qu.:43.79771   3rd Qu.: 1.030   3rd Qu.:50.060   HTTP-FLOOD:   4110  \n",
       " Max.   :75.99982   Max.   :25.000   Max.   :76.000                       \n",
       "                                                                          "
      ]
     },
     "metadata": {},
     "output_type": "display_data"
    },
    {
     "data": {
      "text/html": [
       "'list'"
      ],
      "text/latex": [
       "'list'"
      ],
      "text/markdown": [
       "'list'"
      ],
      "text/plain": [
       "[1] \"list\""
      ]
     },
     "metadata": {},
     "output_type": "display_data"
    },
    {
     "data": {
      "text/html": [
       "<style>\n",
       ".list-inline {list-style: none; margin:0; padding: 0}\n",
       ".list-inline>li {display: inline-block}\n",
       ".list-inline>li:not(:last-child)::after {content: \"\\00b7\"; padding: 0 .5ex}\n",
       "</style>\n",
       "<ol class=list-inline><li>2160668</li><li>28</li></ol>\n"
      ],
      "text/latex": [
       "\\begin{enumerate*}\n",
       "\\item 2160668\n",
       "\\item 28\n",
       "\\end{enumerate*}\n"
      ],
      "text/markdown": [
       "1. 2160668\n",
       "2. 28\n",
       "\n",
       "\n"
      ],
      "text/plain": [
       "[1] 2160668      28"
      ]
     },
     "metadata": {},
     "output_type": "display_data"
    },
    {
     "data": {
      "text/html": [
       "'data.frame'"
      ],
      "text/latex": [
       "'data.frame'"
      ],
      "text/markdown": [
       "'data.frame'"
      ],
      "text/plain": [
       "[1] \"data.frame\""
      ]
     },
     "metadata": {},
     "output_type": "display_data"
    }
   ],
   "source": [
    "require(\"farff\")\n",
    "require(\"tidyverse\")\n",
    "require(\"caret\")\n",
    "require(\"nnet\")\n",
    "\n",
    "\n",
    "d = readARFF(\"data/final-dataset.arff\") #this takes a few seconds to load\n",
    "\n",
    "#d = readARFF(\"data/final-dataset-short.arff\") #this is the short dataset that I am using only to do some quick initial analysis\n",
    "\n",
    "summary(d)\n",
    "typeof(d)\n",
    "dim(d)\n",
    "class(d)"
   ]
  },
  {
   "cell_type": "markdown",
   "metadata": {},
   "source": [
    "No missing values!\n",
    "There are some categorical variables, including the target variable: PKT_TYPE, FLAGS, NODE_NAME_FROM and NODE_NAME_TO, \n",
    "\n",
    "## Target variable\n",
    "PKT_CLASS is the target variable, but it's a discret categorical variable with 5 possible values: Normal,UDP-Flood,Smurf,SIDDOS,HTTP-FLOOD. I'll create 4 dummy variables with binary values (1 or 0) so I can use regression to predict each one of them:\n",
    "* udp \n",
    "* smurf\n",
    "* siddos\n",
    "* http\n",
    "\n",
    "the variable \"left out\" (reference group) is \"Normal\"."
   ]
  },
  {
   "cell_type": "code",
   "execution_count": null,
   "metadata": {},
   "outputs": [],
   "source": [
    "contrasts(d$PKT_CLASS)\n",
    "res <- model.matrix(~ PKT_CLASS, data = d)\n",
    "head(res[, -1])\n",
    "\n",
    "pkt_class_dummies <- data.frame(res[, -1])\n",
    "names(pkt_class_dummies)\n",
    "dim(pkt_class_dummies)\n",
    "colnames(pkt_class_dummies) = c(\"udp_flood\", \"smurf\", \"siddos\", \"http_flood\")"
   ]
  },
  {
   "cell_type": "code",
   "execution_count": null,
   "metadata": {},
   "outputs": [],
   "source": [
    "d_augmt <- d\n",
    "d_augmt$PKT_CLASS_UDP_FLOOD <- pkt_class_dummies$udp_flood\n",
    "d_augmt$PKT_CLASS_Smurf<- pkt_class_dummies$smurf\n",
    "d_augmt$PKT_CLASS_SIDDOS<- pkt_class_dummies$siddos\n",
    "d_augmt$PKT_CLASS_HTTP_FLOOD<- pkt_class_dummies$http_flood\n",
    "\n",
    "summary(d_augmt)"
   ]
  },
  {
   "cell_type": "markdown",
   "metadata": {},
   "source": [
    "\n",
    "## Splitting the data into 3 datasets\n",
    "Training,\n",
    "Vaidation\n",
    "Test (reserved for testing final models)"
   ]
  },
  {
   "cell_type": "code",
   "execution_count": null,
   "metadata": {},
   "outputs": [],
   "source": [
    "set.seed(123) #for reproducibility\n",
    "ss <- sample(1:3,size=nrow(d_augmt),replace=TRUE,prob=c(0.6,0.2,0.2))\n",
    "train_data <- d_augmt[ss==1,]\n",
    "val_data <- d_augmt[ss==2,]\n",
    "holdout_data <- d_augmt[ss==3,]"
   ]
  },
  {
   "cell_type": "markdown",
   "metadata": {},
   "source": [
    "### visualizing correlations between numeric variables"
   ]
  },
  {
   "cell_type": "code",
   "execution_count": null,
   "metadata": {},
   "outputs": [],
   "source": [
    "corr_matrix <- cor(d[, sapply(d, is.numeric)]) #removing non numeric indexes\n",
    "library(\"corrplot\")\n",
    "corrplot(corr_matrix)\n",
    "#or heatmap version of correlogram:\n",
    "palette = colorRampPalette(c(\"green\", \"white\", \"red\")) (20)\n",
    "heatmap(x = corr_matrix, col = palette, symm = TRUE)"
   ]
  }
 ],
 "metadata": {
  "kernelspec": {
   "display_name": "R",
   "language": "R",
   "name": "ir"
  },
  "language_info": {
   "codemirror_mode": "r",
   "file_extension": ".r",
   "mimetype": "text/x-r-source",
   "name": "R",
   "pygments_lexer": "r",
   "version": "3.6.1"
  }
 },
 "nbformat": 4,
 "nbformat_minor": 4
}
