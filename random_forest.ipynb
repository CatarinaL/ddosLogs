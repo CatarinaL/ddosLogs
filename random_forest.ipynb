{
  "nbformat": 4,
  "nbformat_minor": 0,
  "metadata": {
    "colab": {
      "name": "random_forest.ipynb",
      "provenance": [],
      "collapsed_sections": [],
      "mount_file_id": "1dogqdRb-CGMfWPx4USQFPTDdFTGQTdjP",
      "authorship_tag": "ABX9TyMHRUGOJNVUhEETgh9vOZLO",
      "include_colab_link": true
    },
    "kernelspec": {
      "name": "python3",
      "display_name": "Python 3"
    }
  },
  "cells": [
    {
      "cell_type": "markdown",
      "metadata": {
        "id": "view-in-github",
        "colab_type": "text"
      },
      "source": [
        "<a href=\"https://colab.research.google.com/github/CatarinaL/ddosLogs/blob/master/random_forest.ipynb\" target=\"_parent\"><img src=\"https://colab.research.google.com/assets/colab-badge.svg\" alt=\"Open In Colab\"/></a>"
      ]
    },
    {
      "cell_type": "code",
      "metadata": {
        "colab": {
          "base_uri": "https://localhost:8080/"
        },
        "id": "Nd0-JQc9k1pE",
        "outputId": "b7710078-6e02-4851-c8d1-68dbf21a1bc4"
      },
      "source": [
        "!pip install category_encoders\n"
      ],
      "execution_count": 1,
      "outputs": [
        {
          "output_type": "stream",
          "text": [
            "Collecting category_encoders\n",
            "\u001b[?25l  Downloading https://files.pythonhosted.org/packages/44/57/fcef41c248701ee62e8325026b90c432adea35555cbc870aff9cfba23727/category_encoders-2.2.2-py2.py3-none-any.whl (80kB)\n",
            "\r\u001b[K     |████                            | 10kB 16.3MB/s eta 0:00:01\r\u001b[K     |████████▏                       | 20kB 20.8MB/s eta 0:00:01\r\u001b[K     |████████████▏                   | 30kB 24.4MB/s eta 0:00:01\r\u001b[K     |████████████████▎               | 40kB 18.0MB/s eta 0:00:01\r\u001b[K     |████████████████████▎           | 51kB 11.3MB/s eta 0:00:01\r\u001b[K     |████████████████████████▍       | 61kB 11.4MB/s eta 0:00:01\r\u001b[K     |████████████████████████████▍   | 71kB 10.6MB/s eta 0:00:01\r\u001b[K     |████████████████████████████████| 81kB 5.8MB/s \n",
            "\u001b[?25hRequirement already satisfied: scikit-learn>=0.20.0 in /usr/local/lib/python3.6/dist-packages (from category_encoders) (0.22.2.post1)\n",
            "Requirement already satisfied: scipy>=1.0.0 in /usr/local/lib/python3.6/dist-packages (from category_encoders) (1.4.1)\n",
            "Requirement already satisfied: statsmodels>=0.9.0 in /usr/local/lib/python3.6/dist-packages (from category_encoders) (0.10.2)\n",
            "Requirement already satisfied: patsy>=0.5.1 in /usr/local/lib/python3.6/dist-packages (from category_encoders) (0.5.1)\n",
            "Requirement already satisfied: numpy>=1.14.0 in /usr/local/lib/python3.6/dist-packages (from category_encoders) (1.18.5)\n",
            "Requirement already satisfied: pandas>=0.21.1 in /usr/local/lib/python3.6/dist-packages (from category_encoders) (1.1.4)\n",
            "Requirement already satisfied: joblib>=0.11 in /usr/local/lib/python3.6/dist-packages (from scikit-learn>=0.20.0->category_encoders) (0.17.0)\n",
            "Requirement already satisfied: six in /usr/local/lib/python3.6/dist-packages (from patsy>=0.5.1->category_encoders) (1.15.0)\n",
            "Requirement already satisfied: python-dateutil>=2.7.3 in /usr/local/lib/python3.6/dist-packages (from pandas>=0.21.1->category_encoders) (2.8.1)\n",
            "Requirement already satisfied: pytz>=2017.2 in /usr/local/lib/python3.6/dist-packages (from pandas>=0.21.1->category_encoders) (2018.9)\n",
            "Installing collected packages: category-encoders\n",
            "Successfully installed category-encoders-2.2.2\n"
          ],
          "name": "stdout"
        }
      ]
    },
    {
      "cell_type": "code",
      "metadata": {
        "colab": {
          "base_uri": "https://localhost:8080/"
        },
        "id": "ZuYpC4Kc6ce_",
        "outputId": "62ec026e-2ce6-4296-b137-fb7862f033dd"
      },
      "source": [
        "import numpy as np\n",
        "import pandas as pd\n",
        "from scipy.io import arff\n",
        "import matplotlib.pyplot as plt\n",
        "from sklearn.model_selection import train_test_split\n",
        "import category_encoders as ce\n",
        "\n",
        "from sklearn.ensemble import RandomForestClassifier"
      ],
      "execution_count": 2,
      "outputs": [
        {
          "output_type": "stream",
          "text": [
            "/usr/local/lib/python3.6/dist-packages/statsmodels/tools/_testing.py:19: FutureWarning: pandas.util.testing is deprecated. Use the functions in the public API at pandas.testing instead.\n",
            "  import pandas.util.testing as tm\n"
          ],
          "name": "stderr"
        }
      ]
    },
    {
      "cell_type": "code",
      "metadata": {
        "colab": {
          "base_uri": "https://localhost:8080/"
        },
        "id": "06poG1SZ5hbd",
        "outputId": "25845e84-9295-4789-b762-e5e1ef26049f"
      },
      "source": [
        "#data from mounted google drive: /content/drive/MyDrive/datasets/ddosLogs/final-dataset.arff\n",
        "np.random.seed(123)\n",
        "file = \"/content/drive/MyDrive/datasets/ddosLogs/final-dataset.arff\"\n",
        "\n",
        "data, meta = arff.loadarff(file)\n",
        "df = pd.DataFrame(data=data)\n",
        "df.info"
      ],
      "execution_count": 3,
      "outputs": [
        {
          "output_type": "execute_result",
          "data": {
            "text/plain": [
              "<bound method DataFrame.info of          SRC_ADD  DES_ADD  ...  LAST_PKT_RESEVED     PKT_CLASS\n",
              "0           3.00    24.30  ...         50.021920     b'Normal'\n",
              "1          15.00    24.15  ...         50.030211     b'Normal'\n",
              "2          24.15    15.00  ...         50.060221  b'UDP-Flood'\n",
              "3          24.90     9.00  ...         50.060098     b'Normal'\n",
              "4          24.80     8.00  ...         50.061864     b'Normal'\n",
              "...          ...      ...  ...               ...           ...\n",
              "2160663    24.10    10.00  ...         50.040562     b'Normal'\n",
              "2160664    24.12    12.00  ...         50.051067     b'Normal'\n",
              "2160665     1.00    24.10  ...         50.013418     b'Normal'\n",
              "2160666     5.00    24.50  ...         50.027339     b'Normal'\n",
              "2160667    15.00    24.15  ...         50.030211     b'Normal'\n",
              "\n",
              "[2160668 rows x 28 columns]>"
            ]
          },
          "metadata": {
            "tags": []
          },
          "execution_count": 3
        }
      ]
    },
    {
      "cell_type": "code",
      "metadata": {
        "id": "jIoyCMoi5yNQ"
      },
      "source": [
        "df2 = df.copy()\n",
        "\n",
        "#decode byte strings to remove the \"b\" before the srting values at cols PKT_CLASS, NODE_NAME_FROM, NODE_NAME_TO, FLAGS, PKT_TYPE \n",
        "categoricals = [\"NODE_NAME_FROM\", \"NODE_NAME_TO\", \"FLAGS\", \"PKT_TYPE\", \"PKT_CLASS\"]\n",
        "\n",
        "for categorical in categoricals:\n",
        "  df2[categorical] = df2[categorical].apply(lambda x: x.decode('utf-8')).astype(\"category\") \n",
        "\n",
        "intgs = [\"SRC_ADD\", \"DES_ADD\", \"PKT_ID\", \"FROM_NODE\", \"TO_NODE\", \"FID\"]\n",
        "for intg in intgs:\n",
        "  df2[intg] = df2[intg].astype('int64')\n",
        "\n",
        "\n",
        "X = df2.iloc[:, 0:-1]\n",
        "y = df2.iloc[:, [-1]]\n",
        "\n",
        "#split into test and training sets\n",
        "X_train,X_test,y_train,y_test=train_test_split(X,y,test_size=0.3,random_state=0)"
      ],
      "execution_count": 4,
      "outputs": []
    },
    {
      "cell_type": "code",
      "metadata": {
        "colab": {
          "base_uri": "https://localhost:8080/"
        },
        "id": "6F82wUSlG1mU",
        "outputId": "cc3e4960-18c4-43ab-ba72-b2dcecb2c0b7"
      },
      "source": [
        "#data transformation: encode to numericals\n",
        "\n",
        "from category_encoders.wrapper import PolynomialWrapper\n",
        "#encode dummy variables for categoricals - use target or boosting for tree based models - https://towardsdatascience.com/getting-deeper-into-categorical-encodings-for-machine-learning-2312acd347c8\n",
        "enc = PolynomialWrapper(ce.CatBoostEncoder(cols=categoricals[:-1])) #https://maxhalford.github.io/blog/target-encoding/\n",
        "\n",
        "# transform the datasets\n",
        "X_train_enc = enc.fit_transform(X_train, y_train)\n",
        "X_test_enc = enc.transform(X_test)"
      ],
      "execution_count": 7,
      "outputs": [
        {
          "output_type": "stream",
          "text": [
            "/usr/local/lib/python3.6/dist-packages/category_encoders/utils.py:21: FutureWarning: is_categorical is deprecated and will be removed in a future version.  Use is_categorical_dtype instead\n",
            "  elif pd.api.types.is_categorical(cols):\n",
            "/usr/local/lib/python3.6/dist-packages/category_encoders/utils.py:21: FutureWarning: is_categorical is deprecated and will be removed in a future version.  Use is_categorical_dtype instead\n",
            "  elif pd.api.types.is_categorical(cols):\n",
            "/usr/local/lib/python3.6/dist-packages/category_encoders/utils.py:21: FutureWarning: is_categorical is deprecated and will be removed in a future version.  Use is_categorical_dtype instead\n",
            "  elif pd.api.types.is_categorical(cols):\n",
            "/usr/local/lib/python3.6/dist-packages/category_encoders/utils.py:21: FutureWarning: is_categorical is deprecated and will be removed in a future version.  Use is_categorical_dtype instead\n",
            "  elif pd.api.types.is_categorical(cols):\n"
          ],
          "name": "stderr"
        }
      ]
    },
    {
      "cell_type": "code",
      "metadata": {
        "colab": {
          "base_uri": "https://localhost:8080/"
        },
        "id": "L1Z1isMlBZ44",
        "outputId": "8e2765ce-16d4-4f93-bab3-d681d1e0d569"
      },
      "source": [
        "#random florest classifier - produces 100 n_estimator trees by default\n",
        "max_depth =  5\n",
        "rfc = RandomForestClassifier(max_depth=max_depth, bootstrap=True,\n",
        "                             oob_score=True, random_state=0) #enable out of bag error scores and setting random_state for reproducibility\n",
        "rfc.fit(X_train_enc, y_train)\n",
        "# Predict test set labels\n",
        "y_pred = rfc.predict(X_test_enc)\n",
        "print(y_pred[0:5])\n",
        "\n",
        "# Compute test set accuracy \n",
        "rfc.score(X_test_enc, y_test) \n"
      ],
      "execution_count": 9,
      "outputs": [
        {
          "output_type": "stream",
          "text": [
            "/usr/local/lib/python3.6/dist-packages/ipykernel_launcher.py:5: DataConversionWarning: A column-vector y was passed when a 1d array was expected. Please change the shape of y to (n_samples,), for example using ravel().\n",
            "  \"\"\"\n"
          ],
          "name": "stderr"
        },
        {
          "output_type": "stream",
          "text": [
            "['Normal' 'Normal' 'Normal' 'UDP-Flood' 'Normal']\n"
          ],
          "name": "stdout"
        },
        {
          "output_type": "execute_result",
          "data": {
            "text/plain": [
              "0.9864378487537044"
            ]
          },
          "metadata": {
            "tags": []
          },
          "execution_count": 9
        }
      ]
    },
    {
      "cell_type": "code",
      "metadata": {
        "colab": {
          "base_uri": "https://localhost:8080/"
        },
        "id": "rM0lYrkTI5dj",
        "outputId": "cb966c68-4ad1-4f3e-f5c4-3b350df19474"
      },
      "source": [
        "\n",
        "from sklearn.metrics import accuracy_score\n",
        "acc = accuracy_score(y_test, y_pred)\n",
        "print(\"Test set accuracy: {:.2f}\".format(acc))"
      ],
      "execution_count": 10,
      "outputs": [
        {
          "output_type": "stream",
          "text": [
            "Test set accuracy: 0.99\n"
          ],
          "name": "stdout"
        }
      ]
    },
    {
      "cell_type": "code",
      "metadata": {
        "colab": {
          "base_uri": "https://localhost:8080/"
        },
        "id": "aYcYCqVyMWvi",
        "outputId": "0307c680-5890-42a4-fecc-f9ebfdbb9820"
      },
      "source": [
        "rfc.get_params()\n"
      ],
      "execution_count": 11,
      "outputs": [
        {
          "output_type": "execute_result",
          "data": {
            "text/plain": [
              "{'bootstrap': True,\n",
              " 'ccp_alpha': 0.0,\n",
              " 'class_weight': None,\n",
              " 'criterion': 'gini',\n",
              " 'max_depth': 5,\n",
              " 'max_features': 'auto',\n",
              " 'max_leaf_nodes': None,\n",
              " 'max_samples': None,\n",
              " 'min_impurity_decrease': 0.0,\n",
              " 'min_impurity_split': None,\n",
              " 'min_samples_leaf': 1,\n",
              " 'min_samples_split': 2,\n",
              " 'min_weight_fraction_leaf': 0.0,\n",
              " 'n_estimators': 100,\n",
              " 'n_jobs': None,\n",
              " 'oob_score': True,\n",
              " 'random_state': 0,\n",
              " 'verbose': 0,\n",
              " 'warm_start': False}"
            ]
          },
          "metadata": {
            "tags": []
          },
          "execution_count": 11
        }
      ]
    }
  ]
}