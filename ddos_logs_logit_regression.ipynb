{
  "nbformat": 4,
  "nbformat_minor": 0,
  "metadata": {
    "colab": {
      "name": "ddos_logs_logit_regression.ipynb",
      "provenance": [],
      "collapsed_sections": [],
      "mount_file_id": "1hnZpLfJQVV0zyGLbfznrDMlv4BfgTKOp",
      "authorship_tag": "ABX9TyON1RMLeSpI8FTDOMMptMLb",
      "include_colab_link": true
    },
    "kernelspec": {
      "name": "python3",
      "display_name": "Python 3"
    }
  },
  "cells": [
    {
      "cell_type": "markdown",
      "metadata": {
        "id": "view-in-github",
        "colab_type": "text"
      },
      "source": [
        "<a href=\"https://colab.research.google.com/github/CatarinaL/ddosLogs/blob/master/ddos_logs_logit_regression.ipynb\" target=\"_parent\"><img src=\"https://colab.research.google.com/assets/colab-badge.svg\" alt=\"Open In Colab\"/></a>"
      ]
    },
    {
      "cell_type": "code",
      "metadata": {
        "colab": {
          "base_uri": "https://localhost:8080/"
        },
        "id": "bt--z-gK6nAZ",
        "outputId": "fe4d7ed6-09e4-4823-9bb3-7f21ee864896"
      },
      "source": [
        "!pip install category_encoders\n",
        "\n",
        "import numpy as np\n",
        "import pandas as pd\n",
        "from scipy.io import arff\n",
        "import matplotlib.pyplot as plt\n",
        "import seaborn as sns\n",
        "from sklearn.preprocessing import StandardScaler\n",
        "from sklearn.model_selection import train_test_split\n",
        "from sklearn.linear_model import LogisticRegression\n",
        "from sklearn.metrics import classification_report, confusion_matrix, plot_confusion_matrix\n",
        "import category_encoders as ce\n",
        "from category_encoders.wrapper import PolynomialWrapper"
      ],
      "execution_count": 4,
      "outputs": [
        {
          "output_type": "stream",
          "text": [
            "Requirement already satisfied: category_encoders in /usr/local/lib/python3.6/dist-packages (2.2.2)\n",
            "Requirement already satisfied: statsmodels>=0.9.0 in /usr/local/lib/python3.6/dist-packages (from category_encoders) (0.10.2)\n",
            "Requirement already satisfied: scipy>=1.0.0 in /usr/local/lib/python3.6/dist-packages (from category_encoders) (1.4.1)\n",
            "Requirement already satisfied: scikit-learn>=0.20.0 in /usr/local/lib/python3.6/dist-packages (from category_encoders) (0.22.2.post1)\n",
            "Requirement already satisfied: pandas>=0.21.1 in /usr/local/lib/python3.6/dist-packages (from category_encoders) (1.1.4)\n",
            "Requirement already satisfied: patsy>=0.5.1 in /usr/local/lib/python3.6/dist-packages (from category_encoders) (0.5.1)\n",
            "Requirement already satisfied: numpy>=1.14.0 in /usr/local/lib/python3.6/dist-packages (from category_encoders) (1.18.5)\n",
            "Requirement already satisfied: joblib>=0.11 in /usr/local/lib/python3.6/dist-packages (from scikit-learn>=0.20.0->category_encoders) (0.17.0)\n",
            "Requirement already satisfied: python-dateutil>=2.7.3 in /usr/local/lib/python3.6/dist-packages (from pandas>=0.21.1->category_encoders) (2.8.1)\n",
            "Requirement already satisfied: pytz>=2017.2 in /usr/local/lib/python3.6/dist-packages (from pandas>=0.21.1->category_encoders) (2018.9)\n",
            "Requirement already satisfied: six in /usr/local/lib/python3.6/dist-packages (from patsy>=0.5.1->category_encoders) (1.15.0)\n"
          ],
          "name": "stdout"
        }
      ]
    },
    {
      "cell_type": "code",
      "metadata": {
        "colab": {
          "base_uri": "https://localhost:8080/"
        },
        "id": "hTDnN9ZNpoN-",
        "outputId": "ea5820c9-1d52-4ffd-981f-eb87804f16e3"
      },
      "source": [
        "#/content/drive/MyDrive/datasets/ddosLogs/final-dataset.arff\n",
        "np.random.seed(123)\n",
        "file = \"/content/drive/MyDrive/datasets/ddosLogs/final-dataset.arff\"\n",
        "\n",
        "data, meta = arff.loadarff(file)\n",
        "df = pd.DataFrame(data=data)\n",
        "df.info"
      ],
      "execution_count": 5,
      "outputs": [
        {
          "output_type": "execute_result",
          "data": {
            "text/plain": [
              "<bound method DataFrame.info of          SRC_ADD  DES_ADD  ...  LAST_PKT_RESEVED     PKT_CLASS\n",
              "0           3.00    24.30  ...         50.021920     b'Normal'\n",
              "1          15.00    24.15  ...         50.030211     b'Normal'\n",
              "2          24.15    15.00  ...         50.060221  b'UDP-Flood'\n",
              "3          24.90     9.00  ...         50.060098     b'Normal'\n",
              "4          24.80     8.00  ...         50.061864     b'Normal'\n",
              "...          ...      ...  ...               ...           ...\n",
              "2160663    24.10    10.00  ...         50.040562     b'Normal'\n",
              "2160664    24.12    12.00  ...         50.051067     b'Normal'\n",
              "2160665     1.00    24.10  ...         50.013418     b'Normal'\n",
              "2160666     5.00    24.50  ...         50.027339     b'Normal'\n",
              "2160667    15.00    24.15  ...         50.030211     b'Normal'\n",
              "\n",
              "[2160668 rows x 28 columns]>"
            ]
          },
          "metadata": {
            "tags": []
          },
          "execution_count": 5
        }
      ]
    },
    {
      "cell_type": "code",
      "metadata": {
        "colab": {
          "base_uri": "https://localhost:8080/"
        },
        "id": "6BE3Wn7AUyaU",
        "outputId": "12a7ac77-8c6b-4dc0-c02e-2522fd1203b9"
      },
      "source": [
        "#checking for nulls\n",
        "df.isnull().values.any()"
      ],
      "execution_count": 6,
      "outputs": [
        {
          "output_type": "execute_result",
          "data": {
            "text/plain": [
              "False"
            ]
          },
          "metadata": {
            "tags": []
          },
          "execution_count": 6
        }
      ]
    },
    {
      "cell_type": "code",
      "metadata": {
        "id": "YxVqDGdgtA9T"
      },
      "source": [
        "#decode byte strings to remove the \"b\" before the srting values at cols PKT_CLASS, NODE_NAME_FROM, NODE_NAME_TO, FLAGS, PKT_TYPE \n",
        "categoricals = [\"NODE_NAME_FROM\", \"NODE_NAME_TO\", \"FLAGS\", \"PKT_TYPE\", \"PKT_CLASS\"]\n",
        "\n",
        "for categorical in categoricals:\n",
        "  df[categorical] = df[categorical].apply(lambda x: x.decode('utf-8')).astype(\"category\") \n",
        "\n",
        "intgs = [\"SRC_ADD\", \"DES_ADD\", \"PKT_ID\", \"FROM_NODE\", \"TO_NODE\", \"FID\"]\n",
        "for intg in intgs:\n",
        "  df[intg] = df[intg].astype('int64')\n",
        "\n",
        "df.info"
      ],
      "execution_count": 7,
      "outputs": []
    },
    {
      "cell_type": "markdown",
      "metadata": {
        "id": "tSyOW7V-_H0j"
      },
      "source": [
        "copying the df to encode transform categoricals into dummy variables so I can use them in a logistical regression model, leaving original intact "
      ]
    },
    {
      "cell_type": "code",
      "metadata": {
        "id": "X5legXDW5s3i"
      },
      "source": [
        "df2 = df.copy()\n",
        "\n",
        "X = df2.iloc[:, 0:-1]\n",
        "y = df2.iloc[:, [-1]]\n",
        "#split into test and training sets\n",
        "X_train,X_test,y_train,y_test=train_test_split(X,y,test_size=0.3,random_state=0)"
      ],
      "execution_count": 16,
      "outputs": []
    },
    {
      "cell_type": "code",
      "metadata": {
        "colab": {
          "base_uri": "https://localhost:8080/"
        },
        "id": "VPA-4v1RTLyq",
        "outputId": "c805ea6a-a4ed-4148-b03b-0a753b1d891f"
      },
      "source": [
        "#dummy variables w/ WoE\n",
        "# polynomial encoder wrapper for selected categorical variables - weight of evidence encoder\n",
        "enc = PolynomialWrapper(ce.WOEEncoder(cols=[\"NODE_NAME_FROM\", \"NODE_NAME_TO\", \"FLAGS\", \"PKT_TYPE\"]))\n",
        "\n",
        "# transform the datasets\n",
        "X_train_enc = enc.fit_transform(X_train, y_train)\n",
        "X_test_enc = enc.transform(X_test)\n",
        "\n",
        "X_train_enc.info()"
      ],
      "execution_count": 17,
      "outputs": [
        {
          "output_type": "stream",
          "text": [
            "/usr/local/lib/python3.6/dist-packages/category_encoders/utils.py:21: FutureWarning: is_categorical is deprecated and will be removed in a future version.  Use is_categorical_dtype instead\n",
            "  elif pd.api.types.is_categorical(cols):\n",
            "/usr/local/lib/python3.6/dist-packages/category_encoders/utils.py:21: FutureWarning: is_categorical is deprecated and will be removed in a future version.  Use is_categorical_dtype instead\n",
            "  elif pd.api.types.is_categorical(cols):\n",
            "/usr/local/lib/python3.6/dist-packages/category_encoders/utils.py:21: FutureWarning: is_categorical is deprecated and will be removed in a future version.  Use is_categorical_dtype instead\n",
            "  elif pd.api.types.is_categorical(cols):\n",
            "/usr/local/lib/python3.6/dist-packages/category_encoders/utils.py:21: FutureWarning: is_categorical is deprecated and will be removed in a future version.  Use is_categorical_dtype instead\n",
            "  elif pd.api.types.is_categorical(cols):\n"
          ],
          "name": "stderr"
        },
        {
          "output_type": "stream",
          "text": [
            "<class 'pandas.core.frame.DataFrame'>\n",
            "Int64Index: 1512467 entries, 303819 to 305711\n",
            "Data columns (total 39 columns):\n",
            " #   Column                     Non-Null Count    Dtype  \n",
            "---  ------                     --------------    -----  \n",
            " 0   SRC_ADD                    1512467 non-null  int64  \n",
            " 1   DES_ADD                    1512467 non-null  int64  \n",
            " 2   PKT_ID                     1512467 non-null  int64  \n",
            " 3   FROM_NODE                  1512467 non-null  int64  \n",
            " 4   TO_NODE                    1512467 non-null  int64  \n",
            " 5   PKT_SIZE                   1512467 non-null  float64\n",
            " 6   FID                        1512467 non-null  int64  \n",
            " 7   SEQ_NUMBER                 1512467 non-null  float64\n",
            " 8   NUMBER_OF_PKT              1512467 non-null  float64\n",
            " 9   NUMBER_OF_BYTE             1512467 non-null  float64\n",
            " 10  PKT_IN                     1512467 non-null  float64\n",
            " 11  PKT_OUT                    1512467 non-null  float64\n",
            " 12  PKT_R                      1512467 non-null  float64\n",
            " 13  PKT_DELAY_NODE             1512467 non-null  float64\n",
            " 14  PKT_RATE                   1512467 non-null  float64\n",
            " 15  BYTE_RATE                  1512467 non-null  float64\n",
            " 16  PKT_AVG_SIZE               1512467 non-null  float64\n",
            " 17  UTILIZATION                1512467 non-null  float64\n",
            " 18  PKT_DELAY                  1512467 non-null  float64\n",
            " 19  PKT_SEND_TIME              1512467 non-null  float64\n",
            " 20  PKT_RESEVED_TIME           1512467 non-null  float64\n",
            " 21  FIRST_PKT_SENT             1512467 non-null  float64\n",
            " 22  LAST_PKT_RESEVED           1512467 non-null  float64\n",
            " 23  NODE_NAME_FROM_UDP-Flood   1512467 non-null  float64\n",
            " 24  NODE_NAME_TO_UDP-Flood     1512467 non-null  float64\n",
            " 25  FLAGS_UDP-Flood            1512467 non-null  float64\n",
            " 26  PKT_TYPE_UDP-Flood         1512467 non-null  float64\n",
            " 27  NODE_NAME_FROM_Smurf       1512467 non-null  float64\n",
            " 28  NODE_NAME_TO_Smurf         1512467 non-null  float64\n",
            " 29  FLAGS_Smurf                1512467 non-null  float64\n",
            " 30  PKT_TYPE_Smurf             1512467 non-null  float64\n",
            " 31  NODE_NAME_FROM_HTTP-FLOOD  1512467 non-null  float64\n",
            " 32  NODE_NAME_TO_HTTP-FLOOD    1512467 non-null  float64\n",
            " 33  FLAGS_HTTP-FLOOD           1512467 non-null  float64\n",
            " 34  PKT_TYPE_HTTP-FLOOD        1512467 non-null  float64\n",
            " 35  NODE_NAME_FROM_SIDDOS      1512467 non-null  float64\n",
            " 36  NODE_NAME_TO_SIDDOS        1512467 non-null  float64\n",
            " 37  FLAGS_SIDDOS               1512467 non-null  float64\n",
            " 38  PKT_TYPE_SIDDOS            1512467 non-null  float64\n",
            "dtypes: float64(33), int64(6)\n",
            "memory usage: 461.6 MB\n"
          ],
          "name": "stdout"
        }
      ]
    },
    {
      "cell_type": "code",
      "metadata": {
        "id": "WcQM52uZU16o"
      },
      "source": [
        "#TODO try without scaling, try different scalers\n",
        "#normalize \n",
        "\n",
        "scaler = StandardScaler()\n",
        "X_train_scaled = scaler.fit_transform(X_train_enc)\n",
        "X_test_scaled = scaler.fit_transform(X_test_enc)"
      ],
      "execution_count": 18,
      "outputs": []
    },
    {
      "cell_type": "code",
      "metadata": {
        "colab": {
          "base_uri": "https://localhost:8080/"
        },
        "id": "AOR72JxOzkmC",
        "outputId": "3200d843-c76f-4ca5-df82-7500856b5322"
      },
      "source": [
        "#PCA analysis for dimensionality reduction\n",
        "print(f\"Dataset dimensions: {X_train_scaled.shape}, {len(X_train_scaled[0])} features after encoding.\")\n",
        "\n",
        "from sklearn.decomposition import PCA\n",
        "pca2 = PCA(svd_solver='full')\n"
      ],
      "execution_count": 46,
      "outputs": [
        {
          "output_type": "stream",
          "text": [
            "Dataset dimensions: (1512467, 39), 39 features after encoding.\n"
          ],
          "name": "stdout"
        }
      ]
    },
    {
      "cell_type": "code",
      "metadata": {
        "colab": {
          "base_uri": "https://localhost:8080/"
        },
        "id": "3Rl-964ja-YK",
        "outputId": "6ecfb4c2-803c-4f42-a4ce-76e1419a9c3d"
      },
      "source": [
        "print(f\"PCA redimensioned: {X_train_pca_fit2.shape}, {len(X_train_pca_fit2[0])} features.\")\n",
        "pca2.explained_variance_ratio_ #variance of selected features"
      ],
      "execution_count": 32,
      "outputs": [
        {
          "output_type": "stream",
          "text": [
            "PCA redimensioned: (1512467, 39), 39 features.\n"
          ],
          "name": "stdout"
        },
        {
          "output_type": "execute_result",
          "data": {
            "text/plain": [
              "array([2.37937833e-01, 1.93565941e-01, 1.34741757e-01, 1.02747875e-01,\n",
              "       7.04295253e-02, 5.52383201e-02, 5.22589908e-02, 3.71064877e-02,\n",
              "       2.59528244e-02, 1.85211370e-02, 1.65097715e-02, 1.03278876e-02,\n",
              "       8.98292186e-03, 8.63250539e-03, 6.25471469e-03, 5.74217745e-03,\n",
              "       2.87450411e-03, 2.67920540e-03, 2.39416046e-03, 2.06215814e-03,\n",
              "       1.34998294e-03, 9.39833047e-04, 8.32620230e-04, 7.65201429e-04,\n",
              "       5.12735988e-04, 3.26852113e-04, 2.10216734e-04, 9.14387382e-05,\n",
              "       1.04197630e-05, 9.76609059e-10, 1.48430609e-10, 7.06539262e-11,\n",
              "       4.51485356e-12, 6.57082950e-14, 2.32649286e-32, 3.61834344e-33,\n",
              "       1.21927768e-33, 1.21927768e-33, 1.21927768e-33])"
            ]
          },
          "metadata": {
            "tags": []
          },
          "execution_count": 32
        }
      ]
    },
    {
      "cell_type": "code",
      "metadata": {
        "colab": {
          "base_uri": "https://localhost:8080/",
          "height": 646
        },
        "id": "BdLn1f8bdC3Q",
        "outputId": "98b3baa3-242c-431e-a3a1-905267f93b49"
      },
      "source": [
        "variance_exp_cumsum = pca2.explained_variance_ratio_.cumsum().round(2)\n",
        "fig, axes = plt.subplots(1,1,figsize=(16,7), dpi=100)\n",
        "plt.plot(variance_exp_cumsum, color='firebrick')\n",
        "plt.title('Screeplot of Variance Explained %', fontsize=22)\n",
        "plt.xlabel('# of PCs', fontsize=16)\n",
        "plt.show()"
      ],
      "execution_count": 33,
      "outputs": [
        {
          "output_type": "display_data",
          "data": {
            "image/png": "[encoded data removed]",
            "text/plain": [
              "<Figure size 1600x700 with 1 Axes>"
            ]
          },
          "metadata": {
            "tags": [],
            "needs_background": "light"
          }
        }
      ]
    },
    {
      "cell_type": "markdown",
      "metadata": {
        "id": "Ekbasf76eoIx"
      },
      "source": [
        "no gains after 20 components, and residual after 10"
      ]
    },
    {
      "cell_type": "code",
      "metadata": {
        "colab": {
          "base_uri": "https://localhost:8080/"
        },
        "id": "elQPyqNTgsp8",
        "outputId": "0d4805cf-07fe-4d5b-f19f-7e43c3c57d85"
      },
      "source": [
        "pca1 = PCA(n_components=10) \n",
        "pca_X=pca1.fit_transform(X_train_scaled)\n",
        "pca_X.shape"
      ],
      "execution_count": 42,
      "outputs": [
        {
          "output_type": "execute_result",
          "data": {
            "text/plain": [
              "(1512467, 10)"
            ]
          },
          "metadata": {
            "tags": []
          },
          "execution_count": 42
        }
      ]
    },
    {
      "cell_type": "code",
      "metadata": {
        "colab": {
          "base_uri": "https://localhost:8080/",
          "height": 204
        },
        "id": "asCOIitZfGo_",
        "outputId": "e2bda4b8-c087-421f-f66b-b70d8531553d"
      },
      "source": [
        "X_orig = pca1.inverse_transform(pca_X)\n",
        "pd.DataFrame(X_orig).round().head()\n"
      ],
      "execution_count": 43,
      "outputs": [
        {
          "output_type": "execute_result",
          "data": {
            "text/html": [
              "<div>\n",
              "<style scoped>\n",
              "    .dataframe tbody tr th:only-of-type {\n",
              "        vertical-align: middle;\n",
              "    }\n",
              "\n",
              "    .dataframe tbody tr th {\n",
              "        vertical-align: top;\n",
              "    }\n",
              "\n",
              "    .dataframe thead th {\n",
              "        text-align: right;\n",
              "    }\n",
              "</style>\n",
              "<table border=\"1\" class=\"dataframe\">\n",
              "  <thead>\n",
              "    <tr style=\"text-align: right;\">\n",
              "      <th></th>\n",
              "      <th>0</th>\n",
              "      <th>1</th>\n",
              "      <th>2</th>\n",
              "      <th>3</th>\n",
              "      <th>4</th>\n",
              "      <th>5</th>\n",
              "      <th>6</th>\n",
              "      <th>7</th>\n",
              "      <th>8</th>\n",
              "      <th>9</th>\n",
              "      <th>10</th>\n",
              "      <th>11</th>\n",
              "      <th>12</th>\n",
              "      <th>13</th>\n",
              "      <th>14</th>\n",
              "      <th>15</th>\n",
              "      <th>16</th>\n",
              "      <th>17</th>\n",
              "      <th>18</th>\n",
              "      <th>19</th>\n",
              "      <th>20</th>\n",
              "      <th>21</th>\n",
              "      <th>22</th>\n",
              "      <th>23</th>\n",
              "      <th>24</th>\n",
              "      <th>25</th>\n",
              "      <th>26</th>\n",
              "      <th>27</th>\n",
              "      <th>28</th>\n",
              "      <th>29</th>\n",
              "      <th>30</th>\n",
              "      <th>31</th>\n",
              "      <th>32</th>\n",
              "      <th>33</th>\n",
              "      <th>34</th>\n",
              "      <th>35</th>\n",
              "      <th>36</th>\n",
              "      <th>37</th>\n",
              "      <th>38</th>\n",
              "    </tr>\n",
              "  </thead>\n",
              "  <tbody>\n",
              "    <tr>\n",
              "      <th>0</th>\n",
              "      <td>-0.0</td>\n",
              "      <td>1.0</td>\n",
              "      <td>2.0</td>\n",
              "      <td>-0.0</td>\n",
              "      <td>1.0</td>\n",
              "      <td>0.0</td>\n",
              "      <td>2.0</td>\n",
              "      <td>0.0</td>\n",
              "      <td>-2.0</td>\n",
              "      <td>-1.0</td>\n",
              "      <td>2.0</td>\n",
              "      <td>2.0</td>\n",
              "      <td>2.0</td>\n",
              "      <td>-0.0</td>\n",
              "      <td>-1.0</td>\n",
              "      <td>-1.0</td>\n",
              "      <td>0.0</td>\n",
              "      <td>-1.0</td>\n",
              "      <td>-0.0</td>\n",
              "      <td>2.0</td>\n",
              "      <td>2.0</td>\n",
              "      <td>2.0</td>\n",
              "      <td>1.0</td>\n",
              "      <td>-0.0</td>\n",
              "      <td>-0.0</td>\n",
              "      <td>0.0</td>\n",
              "      <td>2.0</td>\n",
              "      <td>-0.0</td>\n",
              "      <td>-1.0</td>\n",
              "      <td>0.0</td>\n",
              "      <td>-1.0</td>\n",
              "      <td>-0.0</td>\n",
              "      <td>-1.0</td>\n",
              "      <td>0.0</td>\n",
              "      <td>-1.0</td>\n",
              "      <td>-0.0</td>\n",
              "      <td>-1.0</td>\n",
              "      <td>-0.0</td>\n",
              "      <td>-1.0</td>\n",
              "    </tr>\n",
              "    <tr>\n",
              "      <th>1</th>\n",
              "      <td>1.0</td>\n",
              "      <td>-1.0</td>\n",
              "      <td>-1.0</td>\n",
              "      <td>1.0</td>\n",
              "      <td>-0.0</td>\n",
              "      <td>-0.0</td>\n",
              "      <td>-0.0</td>\n",
              "      <td>-0.0</td>\n",
              "      <td>1.0</td>\n",
              "      <td>-1.0</td>\n",
              "      <td>-1.0</td>\n",
              "      <td>-1.0</td>\n",
              "      <td>-1.0</td>\n",
              "      <td>0.0</td>\n",
              "      <td>-0.0</td>\n",
              "      <td>-1.0</td>\n",
              "      <td>-0.0</td>\n",
              "      <td>-1.0</td>\n",
              "      <td>-0.0</td>\n",
              "      <td>-1.0</td>\n",
              "      <td>-1.0</td>\n",
              "      <td>-0.0</td>\n",
              "      <td>-0.0</td>\n",
              "      <td>-0.0</td>\n",
              "      <td>-1.0</td>\n",
              "      <td>0.0</td>\n",
              "      <td>-0.0</td>\n",
              "      <td>-0.0</td>\n",
              "      <td>-1.0</td>\n",
              "      <td>0.0</td>\n",
              "      <td>0.0</td>\n",
              "      <td>-1.0</td>\n",
              "      <td>-1.0</td>\n",
              "      <td>0.0</td>\n",
              "      <td>-1.0</td>\n",
              "      <td>-0.0</td>\n",
              "      <td>-0.0</td>\n",
              "      <td>-0.0</td>\n",
              "      <td>-1.0</td>\n",
              "    </tr>\n",
              "    <tr>\n",
              "      <th>2</th>\n",
              "      <td>-1.0</td>\n",
              "      <td>1.0</td>\n",
              "      <td>1.0</td>\n",
              "      <td>1.0</td>\n",
              "      <td>1.0</td>\n",
              "      <td>0.0</td>\n",
              "      <td>-0.0</td>\n",
              "      <td>-0.0</td>\n",
              "      <td>1.0</td>\n",
              "      <td>1.0</td>\n",
              "      <td>1.0</td>\n",
              "      <td>1.0</td>\n",
              "      <td>1.0</td>\n",
              "      <td>-0.0</td>\n",
              "      <td>-0.0</td>\n",
              "      <td>0.0</td>\n",
              "      <td>0.0</td>\n",
              "      <td>1.0</td>\n",
              "      <td>-0.0</td>\n",
              "      <td>1.0</td>\n",
              "      <td>1.0</td>\n",
              "      <td>-0.0</td>\n",
              "      <td>-0.0</td>\n",
              "      <td>-0.0</td>\n",
              "      <td>1.0</td>\n",
              "      <td>0.0</td>\n",
              "      <td>-1.0</td>\n",
              "      <td>-0.0</td>\n",
              "      <td>1.0</td>\n",
              "      <td>0.0</td>\n",
              "      <td>0.0</td>\n",
              "      <td>-1.0</td>\n",
              "      <td>1.0</td>\n",
              "      <td>0.0</td>\n",
              "      <td>1.0</td>\n",
              "      <td>-1.0</td>\n",
              "      <td>-0.0</td>\n",
              "      <td>-0.0</td>\n",
              "      <td>1.0</td>\n",
              "    </tr>\n",
              "    <tr>\n",
              "      <th>3</th>\n",
              "      <td>1.0</td>\n",
              "      <td>-0.0</td>\n",
              "      <td>1.0</td>\n",
              "      <td>1.0</td>\n",
              "      <td>0.0</td>\n",
              "      <td>0.0</td>\n",
              "      <td>0.0</td>\n",
              "      <td>0.0</td>\n",
              "      <td>-1.0</td>\n",
              "      <td>-1.0</td>\n",
              "      <td>1.0</td>\n",
              "      <td>1.0</td>\n",
              "      <td>1.0</td>\n",
              "      <td>-0.0</td>\n",
              "      <td>-1.0</td>\n",
              "      <td>-1.0</td>\n",
              "      <td>0.0</td>\n",
              "      <td>-1.0</td>\n",
              "      <td>-0.0</td>\n",
              "      <td>1.0</td>\n",
              "      <td>1.0</td>\n",
              "      <td>1.0</td>\n",
              "      <td>1.0</td>\n",
              "      <td>-0.0</td>\n",
              "      <td>-0.0</td>\n",
              "      <td>-0.0</td>\n",
              "      <td>0.0</td>\n",
              "      <td>-0.0</td>\n",
              "      <td>-0.0</td>\n",
              "      <td>-0.0</td>\n",
              "      <td>0.0</td>\n",
              "      <td>-0.0</td>\n",
              "      <td>-0.0</td>\n",
              "      <td>-0.0</td>\n",
              "      <td>-1.0</td>\n",
              "      <td>0.0</td>\n",
              "      <td>-0.0</td>\n",
              "      <td>0.0</td>\n",
              "      <td>-1.0</td>\n",
              "    </tr>\n",
              "    <tr>\n",
              "      <th>4</th>\n",
              "      <td>1.0</td>\n",
              "      <td>-1.0</td>\n",
              "      <td>-0.0</td>\n",
              "      <td>1.0</td>\n",
              "      <td>-0.0</td>\n",
              "      <td>-0.0</td>\n",
              "      <td>-1.0</td>\n",
              "      <td>-0.0</td>\n",
              "      <td>1.0</td>\n",
              "      <td>-1.0</td>\n",
              "      <td>-1.0</td>\n",
              "      <td>-1.0</td>\n",
              "      <td>-1.0</td>\n",
              "      <td>-0.0</td>\n",
              "      <td>-0.0</td>\n",
              "      <td>-1.0</td>\n",
              "      <td>-0.0</td>\n",
              "      <td>-1.0</td>\n",
              "      <td>-0.0</td>\n",
              "      <td>-1.0</td>\n",
              "      <td>-1.0</td>\n",
              "      <td>-1.0</td>\n",
              "      <td>-0.0</td>\n",
              "      <td>-0.0</td>\n",
              "      <td>-1.0</td>\n",
              "      <td>0.0</td>\n",
              "      <td>-1.0</td>\n",
              "      <td>-0.0</td>\n",
              "      <td>-1.0</td>\n",
              "      <td>0.0</td>\n",
              "      <td>0.0</td>\n",
              "      <td>-1.0</td>\n",
              "      <td>-1.0</td>\n",
              "      <td>0.0</td>\n",
              "      <td>-1.0</td>\n",
              "      <td>0.0</td>\n",
              "      <td>-0.0</td>\n",
              "      <td>-0.0</td>\n",
              "      <td>-1.0</td>\n",
              "    </tr>\n",
              "  </tbody>\n",
              "</table>\n",
              "</div>"
            ],
            "text/plain": [
              "    0    1    2    3    4    5    6   ...   32   33   34   35   36   37   38\n",
              "0 -0.0  1.0  2.0 -0.0  1.0  0.0  2.0  ... -1.0  0.0 -1.0 -0.0 -1.0 -0.0 -1.0\n",
              "1  1.0 -1.0 -1.0  1.0 -0.0 -0.0 -0.0  ... -1.0  0.0 -1.0 -0.0 -0.0 -0.0 -1.0\n",
              "2 -1.0  1.0  1.0  1.0  1.0  0.0 -0.0  ...  1.0  0.0  1.0 -1.0 -0.0 -0.0  1.0\n",
              "3  1.0 -0.0  1.0  1.0  0.0  0.0  0.0  ... -0.0 -0.0 -1.0  0.0 -0.0  0.0 -1.0\n",
              "4  1.0 -1.0 -0.0  1.0 -0.0 -0.0 -1.0  ... -1.0  0.0 -1.0  0.0 -0.0 -0.0 -1.0\n",
              "\n",
              "[5 rows x 39 columns]"
            ]
          },
          "metadata": {
            "tags": []
          },
          "execution_count": 43
        }
      ]
    },
    {
      "cell_type": "markdown",
      "metadata": {
        "id": "lXCeMFtF2glh"
      },
      "source": [
        "The “lbfgs”, “sag” and “newton-cg” solvers only support \n",
        " regularization or no regularization, and are found to converge faster for some high-dimensional data. Setting multi_class to “multinomial” with these solvers learns a true multinomial logistic regression model, which means that its probability estimates should be better calibrated than the default “one-vs-rest” setting.\n",
        "\n",
        "The “sag” solver uses Stochastic Average Gradient descent (see https://hal.inria.fr/hal-00860051/document). It is faster than other solvers for large datasets, when both the number of samples and the number of features are large."
      ]
    },
    {
      "cell_type": "code",
      "metadata": {
        "colab": {
          "base_uri": "https://localhost:8080/"
        },
        "id": "yvf1WlRETWbZ",
        "outputId": "ba215d71-be7d-4481-a2ba-209bdf4b4cd2"
      },
      "source": [
        "#instantiate the model - multinomial w/ sag solver #TODO: fix, model is not converging\n",
        "'''\n",
        "result with c= 0.05 and max_iter =100\n",
        "array([[  1207,      0,     75,      0,      0],\n",
        "       [    13, 581075,     60,      0,      0],\n",
        "       [     0,    117,   1860,      0,      0],\n",
        "       [     9,   2490,     88,   1222,      0],\n",
        "       [     0,   5939,      0,      0,  54046]]) \n",
        "'''\n",
        "\n",
        "logreg = LogisticRegression(solver='sag', C=0.5, multi_class='multinomial', max_iter = 250,\n",
        "                          random_state=42)\n",
        "\n",
        "# fit the model with data\n",
        "logreg.fit(X_train_scaled, np.ravel(y_train, order = 'C')) #np.ravel is used to flatten the target afeature array, to avoid a DataConversionWarning\n",
        "\n",
        "#\n",
        "y_pred=logreg.predict(X_test_scaled)\n",
        "\n",
        "# import the metrics class\n",
        "confusion_matrix(y_test, y_pred)\n",
        "# visualize with plot_confusion_matrix()"
      ],
      "execution_count": null,
      "outputs": [
        {
          "output_type": "stream",
          "text": [
            "/usr/local/lib/python3.6/dist-packages/sklearn/utils/validation.py:760: DataConversionWarning: A column-vector y was passed when a 1d array was expected. Please change the shape of y to (n_samples, ), for example using ravel().\n",
            "  y = column_or_1d(y, warn=True)\n",
            "/usr/local/lib/python3.6/dist-packages/sklearn/linear_model/_sag.py:330: ConvergenceWarning: The max_iter was reached which means the coef_ did not converge\n",
            "  \"the coef_ did not converge\", ConvergenceWarning)\n"
          ],
          "name": "stderr"
        },
        {
          "output_type": "execute_result",
          "data": {
            "text/plain": [
              "array([[  1207,      0,     75,      0,      0],\n",
              "       [    13, 581075,     60,      0,      0],\n",
              "       [     0,    117,   1860,      0,      0],\n",
              "       [     9,   2490,     88,   1222,      0],\n",
              "       [     0,   5939,      0,      0,  54046]])"
            ]
          },
          "metadata": {
            "tags": []
          },
          "execution_count": 15
        }
      ]
    },
    {
      "cell_type": "code",
      "metadata": {
        "colab": {
          "base_uri": "https://localhost:8080/"
        },
        "id": "7iDbUPH0ZAX-",
        "outputId": "32b847e6-e0f8-4d40-a67b-e75425309503"
      },
      "source": [
        "target_classes = np.unique(y_test, return_counts=True)\n",
        "\n",
        "from sklearn.metrics import classification_report\n",
        "print(classification_report(y_test, y_pred, target_names=target_classes[0]))"
      ],
      "execution_count": null,
      "outputs": [
        {
          "output_type": "stream",
          "text": [
            "              precision    recall  f1-score   support\n",
            "\n",
            "  HTTP-FLOOD       0.98      0.94      0.96      1282\n",
            "      Normal       0.99      1.00      0.99    581148\n",
            "      SIDDOS       0.89      0.94      0.92      1977\n",
            "       Smurf       1.00      0.32      0.49      3809\n",
            "   UDP-Flood       1.00      0.90      0.95     59985\n",
            "\n",
            "    accuracy                           0.99    648201\n",
            "   macro avg       0.97      0.82      0.86    648201\n",
            "weighted avg       0.99      0.99      0.99    648201\n",
            "\n"
          ],
          "name": "stdout"
        }
      ]
    },
    {
      "cell_type": "markdown",
      "metadata": {
        "id": "rHtebkfxfTbg"
      },
      "source": [
        "Intuitively, precision is the ability of the classifier not to label as positive a sample that is negative, and recall is the ability of the classifier to find all the positive samples.\n",
        "\n",
        "The F-measure (Fbeta and F1 measures) can be interpreted as a weighted harmonic mean of the precision and recall. A Fbeta measure reaches its best value at 1 and its worst score at 0. With beta=0, Fbeta and F1 are equivalent, and the recall and the precision are equally important.\n",
        "\n",
        "The precision_recall_curve computes a precision-recall curve from the ground truth label and a score given by the classifier by varying a decision threshold.\n",
        "\n",
        "The average_precision_score function computes the average precision (AP) from prediction scores. The value is between 0 and 1 and higher is better. With random predictions, the AP is the fraction of positive samples.\n",
        "\n",
        "References [Manning2008] and [Everingham2010] present alternative variants of AP that interpolate the precision-recall curve. Currently, average_precision_score does not implement any interpolated variant. References [Davis2006] and [Flach2015] describe why a linear interpolation of points on the precision-recall curve provides an overly-optimistic measure of classifier performance. This linear interpolation is used when computing area under the curve with the trapezoidal rule in auc.\n",
        "\n",
        "See also https://scikit-learn.org/stable/modules/model_evaluation.html#multiclass-and-multilabel-classification"
      ]
    },
    {
      "cell_type": "code",
      "metadata": {
        "colab": {
          "base_uri": "https://localhost:8080/"
        },
        "id": "HlhwURrtaO3v",
        "outputId": "f0ef1953-4756-4d6a-e5f1-7898b5d66201"
      },
      "source": [
        "print(\"Accuracy:\",metrics.accuracy_score(y_test, y_pred))\n",
        "print(\"Precision:\",metrics.precision_score(y_test, y_pred, average=\"weighted\"))\n",
        "print(\"Recall:\",metrics.recall_score(y_test, y_pred, average = \"weighted\"))"
      ],
      "execution_count": null,
      "outputs": [
        {
          "output_type": "stream",
          "text": [
            "Accuracy: 0.9864378487537044\n",
            "Precision: 0.986643352071877\n",
            "Recall: 0.9864378487537044\n"
          ],
          "name": "stdout"
        }
      ]
    },
    {
      "cell_type": "markdown",
      "metadata": {
        "id": "VzJyHREOhX3N"
      },
      "source": [
        "Precision-Recall Trade-off\n",
        "When building a classification model, we need to consider both precision and recall. It is always possible to increase one value at the expense of the other (recall-focussed model/precision-focussed model)"
      ]
    },
    {
      "cell_type": "code",
      "metadata": {
        "colab": {
          "base_uri": "https://localhost:8080/"
        },
        "id": "u9hieJBtnmc7",
        "outputId": "440fa79f-42da-428b-812f-f02df9946c5c"
      },
      "source": [
        "logreg.predict_log_proba(X_test_scaled)"
      ],
      "execution_count": null,
      "outputs": [
        {
          "output_type": "execute_result",
          "data": {
            "text/plain": [
              "array([[-12.86770013,  -0.01483056,  -8.94870411,  -5.51344323,\n",
              "         -4.55101892],\n",
              "       [-12.12136262,  -0.01447118,  -9.0132526 ,  -5.53980764,\n",
              "         -4.57440147],\n",
              "       [-12.43695299,  -0.01464863,  -8.70426895,  -5.51956874,\n",
              "         -4.56937469],\n",
              "       ...,\n",
              "       [-10.58954292,  -0.01452914,  -8.47362062,  -5.5314572 ,\n",
              "         -4.5824503 ],\n",
              "       [-13.2414347 ,  -0.0145437 ,  -8.76370039,  -5.49550592,\n",
              "         -4.58780264],\n",
              "       [-10.32031095,  -0.01486031,  -8.10861068,  -5.44525921,\n",
              "         -4.5952371 ]])"
            ]
          },
          "metadata": {
            "tags": []
          },
          "execution_count": 31
        }
      ]
    },
    {
      "cell_type": "code",
      "metadata": {
        "id": "VeUfLz0LEI0r"
      },
      "source": [
        "#todo model params analysis, interpretation"
      ],
      "execution_count": null,
      "outputs": []
    },
    {
      "cell_type": "code",
      "metadata": {
        "id": "SUJGBn0ThqgC"
      },
      "source": [
        "#todo: analysis to select new set of features - https://scikit-learn.org/stable/modules/generated/sklearn.feature_selection.SelectKBest.html#sklearn.feature_selection.SelectKBest, chi2, mutual info.."
      ],
      "execution_count": null,
      "outputs": []
    },
    {
      "cell_type": "code",
      "metadata": {
        "id": "QEr71i8FTnly"
      },
      "source": [
        "#todo:\n",
        "#fit different models and compare through a loop\n",
        "\n",
        "#todo try fitting several models and comparing faster w/ pipelines\n",
        "''''\n",
        "# Fit to data and predict using pipelined scaling, GNB and PCA.\n",
        "std_clf = make_pipeline(StandardScaler(), PCA(n_components=2), GaussianNB())\n",
        "std_clf.fit(X_train, y_train)\n",
        "pred_test_std = std_clf.predict(X_test)\n",
        "''''"
      ],
      "execution_count": null,
      "outputs": []
    },
    {
      "cell_type": "code",
      "metadata": {
        "id": "_UoqnLbEgmh0"
      },
      "source": [
        "#todo visualizations"
      ],
      "execution_count": null,
      "outputs": []
    },
    {
      "cell_type": "markdown",
      "metadata": {
        "id": "pLdl11tU84pf"
      },
      "source": [
        "Logistic regression with CV"
      ]
    },
    {
      "cell_type": "code",
      "metadata": {
        "id": "8LSDxfQb89MG"
      },
      "source": [
        "#compare ovr (fits binary logit to each class) vs multinomial (applies loss function over the whole prob distribution)\n",
        "#cv param is number of folds, select 5 or 10"
      ],
      "execution_count": null,
      "outputs": []
    },
    {
      "cell_type": "markdown",
      "metadata": {
        "id": "bRwW06bfD57X"
      },
      "source": [
        "Ridge classifier "
      ]
    }
  ]
}