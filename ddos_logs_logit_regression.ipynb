{
  "nbformat": 4,
  "nbformat_minor": 0,
  "metadata": {
    "colab": {
      "name": "ddos_logs_logit_regression.ipynb",
      "provenance": [],
      "collapsed_sections": [],
      "mount_file_id": "1hnZpLfJQVV0zyGLbfznrDMlv4BfgTKOp",
      "authorship_tag": "ABX9TyO61G+H14/3OlDr5aAydSfC",
      "include_colab_link": true
    },
    "kernelspec": {
      "name": "python3",
      "display_name": "Python 3"
    }
  },
  "cells": [
    {
      "cell_type": "markdown",
      "metadata": {
        "id": "view-in-github",
        "colab_type": "text"
      },
      "source": [
        "<a href=\"https://colab.research.google.com/github/CatarinaL/ddosLogs/blob/master/ddos_logs_logit_regression.ipynb\" target=\"_parent\"><img src=\"https://colab.research.google.com/assets/colab-badge.svg\" alt=\"Open In Colab\"/></a>"
      ]
    },
    {
      "cell_type": "code",
      "metadata": {
        "colab": {
          "base_uri": "https://localhost:8080/"
        },
        "id": "bt--z-gK6nAZ",
        "outputId": "fcef4339-59e3-45c6-f0fb-727b7930252b"
      },
      "source": [
        "!pip install category_encoders\n",
        "\n",
        "import numpy as np\n",
        "import pandas as pd\n",
        "from scipy.io import arff\n",
        "import matplotlib.pyplot as plt\n",
        "import seaborn as sns\n",
        "from sklearn.preprocessing import StandardScaler\n",
        "from sklearn.model_selection import train_test_split\n",
        "from sklearn.linear_model import LogisticRegression\n",
        "from sklearn.metrics import classification_report, confusion_matrix\n",
        "import category_encoders as ce\n",
        "from category_encoders.wrapper import PolynomialWrapper"
      ],
      "execution_count": 1,
      "outputs": [
        {
          "output_type": "stream",
          "text": [
            "Collecting category_encoders\n",
            "\u001b[?25l  Downloading https://files.pythonhosted.org/packages/44/57/fcef41c248701ee62e8325026b90c432adea35555cbc870aff9cfba23727/category_encoders-2.2.2-py2.py3-none-any.whl (80kB)\n",
            "\r\u001b[K     |████                            | 10kB 15.2MB/s eta 0:00:01\r\u001b[K     |████████▏                       | 20kB 11.6MB/s eta 0:00:01\r\u001b[K     |████████████▏                   | 30kB 7.7MB/s eta 0:00:01\r\u001b[K     |████████████████▎               | 40kB 7.5MB/s eta 0:00:01\r\u001b[K     |████████████████████▎           | 51kB 4.4MB/s eta 0:00:01\r\u001b[K     |████████████████████████▍       | 61kB 4.9MB/s eta 0:00:01\r\u001b[K     |████████████████████████████▍   | 71kB 5.1MB/s eta 0:00:01\r\u001b[K     |████████████████████████████████| 81kB 3.7MB/s \n",
            "\u001b[?25hRequirement already satisfied: patsy>=0.5.1 in /usr/local/lib/python3.6/dist-packages (from category_encoders) (0.5.1)\n",
            "Requirement already satisfied: scikit-learn>=0.20.0 in /usr/local/lib/python3.6/dist-packages (from category_encoders) (0.22.2.post1)\n",
            "Requirement already satisfied: pandas>=0.21.1 in /usr/local/lib/python3.6/dist-packages (from category_encoders) (1.1.4)\n",
            "Requirement already satisfied: statsmodels>=0.9.0 in /usr/local/lib/python3.6/dist-packages (from category_encoders) (0.10.2)\n",
            "Requirement already satisfied: scipy>=1.0.0 in /usr/local/lib/python3.6/dist-packages (from category_encoders) (1.4.1)\n",
            "Requirement already satisfied: numpy>=1.14.0 in /usr/local/lib/python3.6/dist-packages (from category_encoders) (1.18.5)\n",
            "Requirement already satisfied: six in /usr/local/lib/python3.6/dist-packages (from patsy>=0.5.1->category_encoders) (1.15.0)\n",
            "Requirement already satisfied: joblib>=0.11 in /usr/local/lib/python3.6/dist-packages (from scikit-learn>=0.20.0->category_encoders) (0.17.0)\n",
            "Requirement already satisfied: python-dateutil>=2.7.3 in /usr/local/lib/python3.6/dist-packages (from pandas>=0.21.1->category_encoders) (2.8.1)\n",
            "Requirement already satisfied: pytz>=2017.2 in /usr/local/lib/python3.6/dist-packages (from pandas>=0.21.1->category_encoders) (2018.9)\n",
            "Installing collected packages: category-encoders\n",
            "Successfully installed category-encoders-2.2.2\n"
          ],
          "name": "stdout"
        },
        {
          "output_type": "stream",
          "text": [
            "/usr/local/lib/python3.6/dist-packages/statsmodels/tools/_testing.py:19: FutureWarning: pandas.util.testing is deprecated. Use the functions in the public API at pandas.testing instead.\n",
            "  import pandas.util.testing as tm\n"
          ],
          "name": "stderr"
        }
      ]
    },
    {
      "cell_type": "code",
      "metadata": {
        "colab": {
          "base_uri": "https://localhost:8080/"
        },
        "id": "hTDnN9ZNpoN-",
        "outputId": "68af3874-bd29-4a29-ee1b-f8203538c093"
      },
      "source": [
        "#/content/drive/MyDrive/datasets/ddosLogs/final-dataset.arff\n",
        "np.random.seed(123)\n",
        "file = \"/content/drive/MyDrive/datasets/ddosLogs/final-dataset.arff\"\n",
        "\n",
        "data, meta = arff.loadarff(file)\n",
        "df = pd.DataFrame(data=data)\n",
        "df.info"
      ],
      "execution_count": 2,
      "outputs": [
        {
          "output_type": "execute_result",
          "data": {
            "text/plain": [
              "<bound method DataFrame.info of          SRC_ADD  DES_ADD  ...  LAST_PKT_RESEVED     PKT_CLASS\n",
              "0           3.00    24.30  ...         50.021920     b'Normal'\n",
              "1          15.00    24.15  ...         50.030211     b'Normal'\n",
              "2          24.15    15.00  ...         50.060221  b'UDP-Flood'\n",
              "3          24.90     9.00  ...         50.060098     b'Normal'\n",
              "4          24.80     8.00  ...         50.061864     b'Normal'\n",
              "...          ...      ...  ...               ...           ...\n",
              "2160663    24.10    10.00  ...         50.040562     b'Normal'\n",
              "2160664    24.12    12.00  ...         50.051067     b'Normal'\n",
              "2160665     1.00    24.10  ...         50.013418     b'Normal'\n",
              "2160666     5.00    24.50  ...         50.027339     b'Normal'\n",
              "2160667    15.00    24.15  ...         50.030211     b'Normal'\n",
              "\n",
              "[2160668 rows x 28 columns]>"
            ]
          },
          "metadata": {
            "tags": []
          },
          "execution_count": 2
        }
      ]
    },
    {
      "cell_type": "code",
      "metadata": {
        "colab": {
          "base_uri": "https://localhost:8080/"
        },
        "id": "6BE3Wn7AUyaU",
        "outputId": "adead9b9-a19c-4f8d-f6d9-06305d0ae354"
      },
      "source": [
        "df.describe()\n",
        "df.isnull().values.any()"
      ],
      "execution_count": 3,
      "outputs": [
        {
          "output_type": "execute_result",
          "data": {
            "text/plain": [
              "False"
            ]
          },
          "metadata": {
            "tags": []
          },
          "execution_count": 3
        }
      ]
    },
    {
      "cell_type": "code",
      "metadata": {
        "id": "YxVqDGdgtA9T"
      },
      "source": [
        "#decode byte strings to remove the \"b\" before the srting values at cols PKT_CLASS, NODE_NAME_FROM, NODE_NAME_TO, FLAGS, PKT_TYPE \n",
        "categoricals = [\"NODE_NAME_FROM\", \"NODE_NAME_TO\", \"FLAGS\", \"PKT_TYPE\", \"PKT_CLASS\"]\n",
        "\n",
        "for categorical in categoricals:\n",
        "  df[categorical] = df[categorical].apply(lambda x: x.decode('utf-8')).astype(\"category\") \n"
      ],
      "execution_count": 4,
      "outputs": []
    },
    {
      "cell_type": "code",
      "metadata": {
        "id": "YcDCniUg4QTq"
      },
      "source": [
        "intgs = [\"SRC_ADD\", \"DES_ADD\", \"PKT_ID\", \"FROM_NODE\", \"TO_NODE\", \"FID\"]\n",
        "for intg in intgs:\n",
        "  df[intg] = df[intg].astype('int64')\n"
      ],
      "execution_count": 6,
      "outputs": []
    },
    {
      "cell_type": "code",
      "metadata": {
        "colab": {
          "base_uri": "https://localhost:8080/"
        },
        "id": "AvRqgQb71D7t",
        "outputId": "c2b4520f-0ea7-4b7e-cc9a-e50381dc6dd2"
      },
      "source": [
        "df.dtypes\n"
      ],
      "execution_count": 7,
      "outputs": [
        {
          "output_type": "execute_result",
          "data": {
            "text/plain": [
              "SRC_ADD                int64\n",
              "DES_ADD                int64\n",
              "PKT_ID                 int64\n",
              "FROM_NODE              int64\n",
              "TO_NODE                int64\n",
              "PKT_TYPE            category\n",
              "PKT_SIZE             float64\n",
              "FLAGS               category\n",
              "FID                    int64\n",
              "SEQ_NUMBER           float64\n",
              "NUMBER_OF_PKT        float64\n",
              "NUMBER_OF_BYTE       float64\n",
              "NODE_NAME_FROM      category\n",
              "NODE_NAME_TO        category\n",
              "PKT_IN               float64\n",
              "PKT_OUT              float64\n",
              "PKT_R                float64\n",
              "PKT_DELAY_NODE       float64\n",
              "PKT_RATE             float64\n",
              "BYTE_RATE            float64\n",
              "PKT_AVG_SIZE         float64\n",
              "UTILIZATION          float64\n",
              "PKT_DELAY            float64\n",
              "PKT_SEND_TIME        float64\n",
              "PKT_RESEVED_TIME     float64\n",
              "FIRST_PKT_SENT       float64\n",
              "LAST_PKT_RESEVED     float64\n",
              "PKT_CLASS           category\n",
              "dtype: object"
            ]
          },
          "metadata": {
            "tags": []
          },
          "execution_count": 7
        }
      ]
    },
    {
      "cell_type": "markdown",
      "metadata": {
        "id": "tSyOW7V-_H0j"
      },
      "source": [
        "copying the df to encode transform categoricals into dummy variables so I can use them in a logistical regression model, leaving original intact "
      ]
    },
    {
      "cell_type": "code",
      "metadata": {
        "id": "X5legXDW5s3i"
      },
      "source": [
        "df2 = df.copy()\n",
        "\n",
        "X = df2.iloc[:, 0:-1]\n",
        "y = df2.iloc[:, [-1]]"
      ],
      "execution_count": 9,
      "outputs": []
    },
    {
      "cell_type": "code",
      "metadata": {
        "colab": {
          "base_uri": "https://localhost:8080/",
          "height": 439
        },
        "id": "U6K-edZiAYzQ",
        "outputId": "c659bdcf-7ee8-4b2f-f16d-184e0705a258"
      },
      "source": [
        "X"
      ],
      "execution_count": 52,
      "outputs": [
        {
          "output_type": "execute_result",
          "data": {
            "text/html": [
              "<div>\n",
              "<style scoped>\n",
              "    .dataframe tbody tr th:only-of-type {\n",
              "        vertical-align: middle;\n",
              "    }\n",
              "\n",
              "    .dataframe tbody tr th {\n",
              "        vertical-align: top;\n",
              "    }\n",
              "\n",
              "    .dataframe thead th {\n",
              "        text-align: right;\n",
              "    }\n",
              "</style>\n",
              "<table border=\"1\" class=\"dataframe\">\n",
              "  <thead>\n",
              "    <tr style=\"text-align: right;\">\n",
              "      <th></th>\n",
              "      <th>SRC_ADD</th>\n",
              "      <th>DES_ADD</th>\n",
              "      <th>PKT_ID</th>\n",
              "      <th>FROM_NODE</th>\n",
              "      <th>TO_NODE</th>\n",
              "      <th>PKT_TYPE</th>\n",
              "      <th>PKT_SIZE</th>\n",
              "      <th>FLAGS</th>\n",
              "      <th>FID</th>\n",
              "      <th>SEQ_NUMBER</th>\n",
              "      <th>NUMBER_OF_PKT</th>\n",
              "      <th>NUMBER_OF_BYTE</th>\n",
              "      <th>NODE_NAME_FROM</th>\n",
              "      <th>NODE_NAME_TO</th>\n",
              "      <th>PKT_IN</th>\n",
              "      <th>PKT_OUT</th>\n",
              "      <th>PKT_R</th>\n",
              "      <th>PKT_DELAY_NODE</th>\n",
              "      <th>PKT_RATE</th>\n",
              "      <th>BYTE_RATE</th>\n",
              "      <th>PKT_AVG_SIZE</th>\n",
              "      <th>UTILIZATION</th>\n",
              "      <th>PKT_DELAY</th>\n",
              "      <th>PKT_SEND_TIME</th>\n",
              "      <th>PKT_RESEVED_TIME</th>\n",
              "      <th>FIRST_PKT_SENT</th>\n",
              "      <th>LAST_PKT_RESEVED</th>\n",
              "    </tr>\n",
              "  </thead>\n",
              "  <tbody>\n",
              "    <tr>\n",
              "      <th>0</th>\n",
              "      <td>3</td>\n",
              "      <td>24</td>\n",
              "      <td>389693</td>\n",
              "      <td>21</td>\n",
              "      <td>23</td>\n",
              "      <td>tcp</td>\n",
              "      <td>1540.0</td>\n",
              "      <td>-------</td>\n",
              "      <td>4</td>\n",
              "      <td>11339.0</td>\n",
              "      <td>16091.0</td>\n",
              "      <td>24780100.0</td>\n",
              "      <td>Switch1</td>\n",
              "      <td>Router</td>\n",
              "      <td>35.529786</td>\n",
              "      <td>35.529786</td>\n",
              "      <td>35.539909</td>\n",
              "      <td>0.0</td>\n",
              "      <td>328.240918</td>\n",
              "      <td>505490.0</td>\n",
              "      <td>1540.0</td>\n",
              "      <td>0.236321</td>\n",
              "      <td>0.0</td>\n",
              "      <td>35.519662</td>\n",
              "      <td>35.550032</td>\n",
              "      <td>1.000000</td>\n",
              "      <td>50.021920</td>\n",
              "    </tr>\n",
              "    <tr>\n",
              "      <th>1</th>\n",
              "      <td>15</td>\n",
              "      <td>24</td>\n",
              "      <td>201196</td>\n",
              "      <td>23</td>\n",
              "      <td>24</td>\n",
              "      <td>tcp</td>\n",
              "      <td>1540.0</td>\n",
              "      <td>-------</td>\n",
              "      <td>16</td>\n",
              "      <td>6274.0</td>\n",
              "      <td>16092.0</td>\n",
              "      <td>24781700.0</td>\n",
              "      <td>Router</td>\n",
              "      <td>server1</td>\n",
              "      <td>20.176725</td>\n",
              "      <td>20.176725</td>\n",
              "      <td>20.186848</td>\n",
              "      <td>0.0</td>\n",
              "      <td>328.205808</td>\n",
              "      <td>505437.0</td>\n",
              "      <td>1540.0</td>\n",
              "      <td>0.236337</td>\n",
              "      <td>0.0</td>\n",
              "      <td>20.156478</td>\n",
              "      <td>20.186848</td>\n",
              "      <td>1.000000</td>\n",
              "      <td>50.030211</td>\n",
              "    </tr>\n",
              "    <tr>\n",
              "      <th>2</th>\n",
              "      <td>24</td>\n",
              "      <td>15</td>\n",
              "      <td>61905</td>\n",
              "      <td>23</td>\n",
              "      <td>22</td>\n",
              "      <td>ack</td>\n",
              "      <td>55.0</td>\n",
              "      <td>-------</td>\n",
              "      <td>16</td>\n",
              "      <td>1930.0</td>\n",
              "      <td>16092.0</td>\n",
              "      <td>885060.0</td>\n",
              "      <td>Router</td>\n",
              "      <td>Switch2</td>\n",
              "      <td>7.049955</td>\n",
              "      <td>7.049955</td>\n",
              "      <td>7.059958</td>\n",
              "      <td>0.0</td>\n",
              "      <td>328.206042</td>\n",
              "      <td>18051.3</td>\n",
              "      <td>55.0</td>\n",
              "      <td>0.008441</td>\n",
              "      <td>0.0</td>\n",
              "      <td>7.039952</td>\n",
              "      <td>7.069962</td>\n",
              "      <td>1.030045</td>\n",
              "      <td>50.060221</td>\n",
              "    </tr>\n",
              "    <tr>\n",
              "      <th>3</th>\n",
              "      <td>24</td>\n",
              "      <td>9</td>\n",
              "      <td>443135</td>\n",
              "      <td>23</td>\n",
              "      <td>21</td>\n",
              "      <td>ack</td>\n",
              "      <td>55.0</td>\n",
              "      <td>-------</td>\n",
              "      <td>10</td>\n",
              "      <td>12670.0</td>\n",
              "      <td>16085.0</td>\n",
              "      <td>884675.0</td>\n",
              "      <td>Router</td>\n",
              "      <td>Switch1</td>\n",
              "      <td>39.627970</td>\n",
              "      <td>39.627970</td>\n",
              "      <td>39.637973</td>\n",
              "      <td>0.0</td>\n",
              "      <td>328.064183</td>\n",
              "      <td>18043.5</td>\n",
              "      <td>55.0</td>\n",
              "      <td>0.008437</td>\n",
              "      <td>0.0</td>\n",
              "      <td>39.617967</td>\n",
              "      <td>39.647976</td>\n",
              "      <td>1.030058</td>\n",
              "      <td>50.060098</td>\n",
              "    </tr>\n",
              "    <tr>\n",
              "      <th>4</th>\n",
              "      <td>24</td>\n",
              "      <td>8</td>\n",
              "      <td>157335</td>\n",
              "      <td>23</td>\n",
              "      <td>21</td>\n",
              "      <td>ack</td>\n",
              "      <td>55.0</td>\n",
              "      <td>-------</td>\n",
              "      <td>9</td>\n",
              "      <td>4901.0</td>\n",
              "      <td>16088.0</td>\n",
              "      <td>884840.0</td>\n",
              "      <td>Router</td>\n",
              "      <td>Switch1</td>\n",
              "      <td>16.039806</td>\n",
              "      <td>16.039806</td>\n",
              "      <td>16.049810</td>\n",
              "      <td>0.0</td>\n",
              "      <td>328.113525</td>\n",
              "      <td>18046.2</td>\n",
              "      <td>55.0</td>\n",
              "      <td>0.008438</td>\n",
              "      <td>0.0</td>\n",
              "      <td>16.029803</td>\n",
              "      <td>16.059813</td>\n",
              "      <td>1.030054</td>\n",
              "      <td>50.061864</td>\n",
              "    </tr>\n",
              "    <tr>\n",
              "      <th>...</th>\n",
              "      <td>...</td>\n",
              "      <td>...</td>\n",
              "      <td>...</td>\n",
              "      <td>...</td>\n",
              "      <td>...</td>\n",
              "      <td>...</td>\n",
              "      <td>...</td>\n",
              "      <td>...</td>\n",
              "      <td>...</td>\n",
              "      <td>...</td>\n",
              "      <td>...</td>\n",
              "      <td>...</td>\n",
              "      <td>...</td>\n",
              "      <td>...</td>\n",
              "      <td>...</td>\n",
              "      <td>...</td>\n",
              "      <td>...</td>\n",
              "      <td>...</td>\n",
              "      <td>...</td>\n",
              "      <td>...</td>\n",
              "      <td>...</td>\n",
              "      <td>...</td>\n",
              "      <td>...</td>\n",
              "      <td>...</td>\n",
              "      <td>...</td>\n",
              "      <td>...</td>\n",
              "      <td>...</td>\n",
              "    </tr>\n",
              "    <tr>\n",
              "      <th>2160663</th>\n",
              "      <td>24</td>\n",
              "      <td>10</td>\n",
              "      <td>43184</td>\n",
              "      <td>22</td>\n",
              "      <td>10</td>\n",
              "      <td>ack</td>\n",
              "      <td>55.0</td>\n",
              "      <td>-------</td>\n",
              "      <td>11</td>\n",
              "      <td>1343.0</td>\n",
              "      <td>16103.0</td>\n",
              "      <td>885665.0</td>\n",
              "      <td>Switch2</td>\n",
              "      <td>clien-10</td>\n",
              "      <td>5.295040</td>\n",
              "      <td>5.295040</td>\n",
              "      <td>5.305043</td>\n",
              "      <td>0.0</td>\n",
              "      <td>328.561918</td>\n",
              "      <td>18070.9</td>\n",
              "      <td>55.0</td>\n",
              "      <td>0.008446</td>\n",
              "      <td>0.0</td>\n",
              "      <td>5.275034</td>\n",
              "      <td>5.305043</td>\n",
              "      <td>1.030013</td>\n",
              "      <td>50.040562</td>\n",
              "    </tr>\n",
              "    <tr>\n",
              "      <th>2160664</th>\n",
              "      <td>24</td>\n",
              "      <td>12</td>\n",
              "      <td>376386</td>\n",
              "      <td>23</td>\n",
              "      <td>22</td>\n",
              "      <td>ack</td>\n",
              "      <td>55.0</td>\n",
              "      <td>-------</td>\n",
              "      <td>13</td>\n",
              "      <td>10991.0</td>\n",
              "      <td>16103.0</td>\n",
              "      <td>885665.0</td>\n",
              "      <td>Router</td>\n",
              "      <td>Switch2</td>\n",
              "      <td>34.508649</td>\n",
              "      <td>34.508649</td>\n",
              "      <td>34.518652</td>\n",
              "      <td>0.0</td>\n",
              "      <td>328.491596</td>\n",
              "      <td>18067.0</td>\n",
              "      <td>55.0</td>\n",
              "      <td>0.008446</td>\n",
              "      <td>0.0</td>\n",
              "      <td>34.498646</td>\n",
              "      <td>34.528655</td>\n",
              "      <td>1.030026</td>\n",
              "      <td>50.051067</td>\n",
              "    </tr>\n",
              "    <tr>\n",
              "      <th>2160665</th>\n",
              "      <td>1</td>\n",
              "      <td>24</td>\n",
              "      <td>140121</td>\n",
              "      <td>21</td>\n",
              "      <td>23</td>\n",
              "      <td>tcp</td>\n",
              "      <td>1540.0</td>\n",
              "      <td>-------</td>\n",
              "      <td>2</td>\n",
              "      <td>4374.0</td>\n",
              "      <td>16091.0</td>\n",
              "      <td>24780100.0</td>\n",
              "      <td>Switch1</td>\n",
              "      <td>Router</td>\n",
              "      <td>14.418011</td>\n",
              "      <td>14.418011</td>\n",
              "      <td>14.428134</td>\n",
              "      <td>0.0</td>\n",
              "      <td>328.297855</td>\n",
              "      <td>505578.0</td>\n",
              "      <td>1540.0</td>\n",
              "      <td>0.236321</td>\n",
              "      <td>0.0</td>\n",
              "      <td>14.407888</td>\n",
              "      <td>14.438258</td>\n",
              "      <td>1.000000</td>\n",
              "      <td>50.013418</td>\n",
              "    </tr>\n",
              "    <tr>\n",
              "      <th>2160666</th>\n",
              "      <td>5</td>\n",
              "      <td>24</td>\n",
              "      <td>26800</td>\n",
              "      <td>5</td>\n",
              "      <td>21</td>\n",
              "      <td>tcp</td>\n",
              "      <td>1540.0</td>\n",
              "      <td>-------</td>\n",
              "      <td>6</td>\n",
              "      <td>832.0</td>\n",
              "      <td>16091.0</td>\n",
              "      <td>24780100.0</td>\n",
              "      <td>clien-5</td>\n",
              "      <td>Switch1</td>\n",
              "      <td>3.732227</td>\n",
              "      <td>3.732227</td>\n",
              "      <td>3.742350</td>\n",
              "      <td>0.0</td>\n",
              "      <td>328.204637</td>\n",
              "      <td>505434.0</td>\n",
              "      <td>1540.0</td>\n",
              "      <td>0.236321</td>\n",
              "      <td>0.0</td>\n",
              "      <td>3.732227</td>\n",
              "      <td>3.762597</td>\n",
              "      <td>1.000000</td>\n",
              "      <td>50.027339</td>\n",
              "    </tr>\n",
              "    <tr>\n",
              "      <th>2160667</th>\n",
              "      <td>15</td>\n",
              "      <td>24</td>\n",
              "      <td>549560</td>\n",
              "      <td>22</td>\n",
              "      <td>23</td>\n",
              "      <td>tcp</td>\n",
              "      <td>1540.0</td>\n",
              "      <td>-------</td>\n",
              "      <td>16</td>\n",
              "      <td>15367.0</td>\n",
              "      <td>16092.0</td>\n",
              "      <td>24781700.0</td>\n",
              "      <td>Switch2</td>\n",
              "      <td>Router</td>\n",
              "      <td>47.792490</td>\n",
              "      <td>47.792490</td>\n",
              "      <td>47.802613</td>\n",
              "      <td>0.0</td>\n",
              "      <td>328.205808</td>\n",
              "      <td>505437.0</td>\n",
              "      <td>1540.0</td>\n",
              "      <td>0.236337</td>\n",
              "      <td>0.0</td>\n",
              "      <td>47.782367</td>\n",
              "      <td>47.812736</td>\n",
              "      <td>1.000000</td>\n",
              "      <td>50.030211</td>\n",
              "    </tr>\n",
              "  </tbody>\n",
              "</table>\n",
              "<p>2160668 rows × 27 columns</p>\n",
              "</div>"
            ],
            "text/plain": [
              "         SRC_ADD  DES_ADD  ...  FIRST_PKT_SENT  LAST_PKT_RESEVED\n",
              "0              3       24  ...        1.000000         50.021920\n",
              "1             15       24  ...        1.000000         50.030211\n",
              "2             24       15  ...        1.030045         50.060221\n",
              "3             24        9  ...        1.030058         50.060098\n",
              "4             24        8  ...        1.030054         50.061864\n",
              "...          ...      ...  ...             ...               ...\n",
              "2160663       24       10  ...        1.030013         50.040562\n",
              "2160664       24       12  ...        1.030026         50.051067\n",
              "2160665        1       24  ...        1.000000         50.013418\n",
              "2160666        5       24  ...        1.000000         50.027339\n",
              "2160667       15       24  ...        1.000000         50.030211\n",
              "\n",
              "[2160668 rows x 27 columns]"
            ]
          },
          "metadata": {
            "tags": []
          },
          "execution_count": 52
        }
      ]
    },
    {
      "cell_type": "code",
      "metadata": {
        "colab": {
          "base_uri": "https://localhost:8080/",
          "height": 419
        },
        "id": "FStNavN3AZME",
        "outputId": "2ce77228-8bd8-4ad2-902a-71f17185ab3d"
      },
      "source": [
        "y"
      ],
      "execution_count": 53,
      "outputs": [
        {
          "output_type": "execute_result",
          "data": {
            "text/html": [
              "<div>\n",
              "<style scoped>\n",
              "    .dataframe tbody tr th:only-of-type {\n",
              "        vertical-align: middle;\n",
              "    }\n",
              "\n",
              "    .dataframe tbody tr th {\n",
              "        vertical-align: top;\n",
              "    }\n",
              "\n",
              "    .dataframe thead th {\n",
              "        text-align: right;\n",
              "    }\n",
              "</style>\n",
              "<table border=\"1\" class=\"dataframe\">\n",
              "  <thead>\n",
              "    <tr style=\"text-align: right;\">\n",
              "      <th></th>\n",
              "      <th>PKT_CLASS</th>\n",
              "    </tr>\n",
              "  </thead>\n",
              "  <tbody>\n",
              "    <tr>\n",
              "      <th>0</th>\n",
              "      <td>Normal</td>\n",
              "    </tr>\n",
              "    <tr>\n",
              "      <th>1</th>\n",
              "      <td>Normal</td>\n",
              "    </tr>\n",
              "    <tr>\n",
              "      <th>2</th>\n",
              "      <td>UDP-Flood</td>\n",
              "    </tr>\n",
              "    <tr>\n",
              "      <th>3</th>\n",
              "      <td>Normal</td>\n",
              "    </tr>\n",
              "    <tr>\n",
              "      <th>4</th>\n",
              "      <td>Normal</td>\n",
              "    </tr>\n",
              "    <tr>\n",
              "      <th>...</th>\n",
              "      <td>...</td>\n",
              "    </tr>\n",
              "    <tr>\n",
              "      <th>2160663</th>\n",
              "      <td>Normal</td>\n",
              "    </tr>\n",
              "    <tr>\n",
              "      <th>2160664</th>\n",
              "      <td>Normal</td>\n",
              "    </tr>\n",
              "    <tr>\n",
              "      <th>2160665</th>\n",
              "      <td>Normal</td>\n",
              "    </tr>\n",
              "    <tr>\n",
              "      <th>2160666</th>\n",
              "      <td>Normal</td>\n",
              "    </tr>\n",
              "    <tr>\n",
              "      <th>2160667</th>\n",
              "      <td>Normal</td>\n",
              "    </tr>\n",
              "  </tbody>\n",
              "</table>\n",
              "<p>2160668 rows × 1 columns</p>\n",
              "</div>"
            ],
            "text/plain": [
              "         PKT_CLASS\n",
              "0           Normal\n",
              "1           Normal\n",
              "2        UDP-Flood\n",
              "3           Normal\n",
              "4           Normal\n",
              "...            ...\n",
              "2160663     Normal\n",
              "2160664     Normal\n",
              "2160665     Normal\n",
              "2160666     Normal\n",
              "2160667     Normal\n",
              "\n",
              "[2160668 rows x 1 columns]"
            ]
          },
          "metadata": {
            "tags": []
          },
          "execution_count": 53
        }
      ]
    },
    {
      "cell_type": "code",
      "metadata": {
        "colab": {
          "base_uri": "https://localhost:8080/"
        },
        "id": "VPA-4v1RTLyq",
        "outputId": "cc59229f-28f2-40be-dd00-1679115add8d"
      },
      "source": [
        "#split into test and training sets\n",
        "X_train,X_test,y_train,y_test=train_test_split(X,y,test_size=0.3,random_state=0)\n",
        "\n",
        "#dummy variables w/ WoE\n",
        "# polynomial encoder wrapper for selected categorical variables - weight of evidence encoder\n",
        "enc = PolynomialWrapper(ce.WOEEncoder(cols=[\"NODE_NAME_FROM\", \"NODE_NAME_TO\", \"FLAGS\", \"PKT_TYPE\"]))\n",
        "\n",
        "# transform the datasets\n",
        "X_train_enc = enc.fit_transform(X_train, y_train)\n",
        "X_test_enc = enc.transform(X_test)\n",
        "\n",
        "X_train_enc.info()"
      ],
      "execution_count": 10,
      "outputs": [
        {
          "output_type": "stream",
          "text": [
            "/usr/local/lib/python3.6/dist-packages/category_encoders/utils.py:21: FutureWarning: is_categorical is deprecated and will be removed in a future version.  Use is_categorical_dtype instead\n",
            "  elif pd.api.types.is_categorical(cols):\n",
            "/usr/local/lib/python3.6/dist-packages/category_encoders/utils.py:21: FutureWarning: is_categorical is deprecated and will be removed in a future version.  Use is_categorical_dtype instead\n",
            "  elif pd.api.types.is_categorical(cols):\n",
            "/usr/local/lib/python3.6/dist-packages/category_encoders/utils.py:21: FutureWarning: is_categorical is deprecated and will be removed in a future version.  Use is_categorical_dtype instead\n",
            "  elif pd.api.types.is_categorical(cols):\n",
            "/usr/local/lib/python3.6/dist-packages/category_encoders/utils.py:21: FutureWarning: is_categorical is deprecated and will be removed in a future version.  Use is_categorical_dtype instead\n",
            "  elif pd.api.types.is_categorical(cols):\n"
          ],
          "name": "stderr"
        },
        {
          "output_type": "stream",
          "text": [
            "<class 'pandas.core.frame.DataFrame'>\n",
            "Int64Index: 1512467 entries, 303819 to 305711\n",
            "Data columns (total 39 columns):\n",
            " #   Column                     Non-Null Count    Dtype  \n",
            "---  ------                     --------------    -----  \n",
            " 0   SRC_ADD                    1512467 non-null  int64  \n",
            " 1   DES_ADD                    1512467 non-null  int64  \n",
            " 2   PKT_ID                     1512467 non-null  int64  \n",
            " 3   FROM_NODE                  1512467 non-null  int64  \n",
            " 4   TO_NODE                    1512467 non-null  int64  \n",
            " 5   PKT_SIZE                   1512467 non-null  float64\n",
            " 6   FID                        1512467 non-null  int64  \n",
            " 7   SEQ_NUMBER                 1512467 non-null  float64\n",
            " 8   NUMBER_OF_PKT              1512467 non-null  float64\n",
            " 9   NUMBER_OF_BYTE             1512467 non-null  float64\n",
            " 10  PKT_IN                     1512467 non-null  float64\n",
            " 11  PKT_OUT                    1512467 non-null  float64\n",
            " 12  PKT_R                      1512467 non-null  float64\n",
            " 13  PKT_DELAY_NODE             1512467 non-null  float64\n",
            " 14  PKT_RATE                   1512467 non-null  float64\n",
            " 15  BYTE_RATE                  1512467 non-null  float64\n",
            " 16  PKT_AVG_SIZE               1512467 non-null  float64\n",
            " 17  UTILIZATION                1512467 non-null  float64\n",
            " 18  PKT_DELAY                  1512467 non-null  float64\n",
            " 19  PKT_SEND_TIME              1512467 non-null  float64\n",
            " 20  PKT_RESEVED_TIME           1512467 non-null  float64\n",
            " 21  FIRST_PKT_SENT             1512467 non-null  float64\n",
            " 22  LAST_PKT_RESEVED           1512467 non-null  float64\n",
            " 23  NODE_NAME_FROM_UDP-Flood   1512467 non-null  float64\n",
            " 24  NODE_NAME_TO_UDP-Flood     1512467 non-null  float64\n",
            " 25  FLAGS_UDP-Flood            1512467 non-null  float64\n",
            " 26  PKT_TYPE_UDP-Flood         1512467 non-null  float64\n",
            " 27  NODE_NAME_FROM_Smurf       1512467 non-null  float64\n",
            " 28  NODE_NAME_TO_Smurf         1512467 non-null  float64\n",
            " 29  FLAGS_Smurf                1512467 non-null  float64\n",
            " 30  PKT_TYPE_Smurf             1512467 non-null  float64\n",
            " 31  NODE_NAME_FROM_HTTP-FLOOD  1512467 non-null  float64\n",
            " 32  NODE_NAME_TO_HTTP-FLOOD    1512467 non-null  float64\n",
            " 33  FLAGS_HTTP-FLOOD           1512467 non-null  float64\n",
            " 34  PKT_TYPE_HTTP-FLOOD        1512467 non-null  float64\n",
            " 35  NODE_NAME_FROM_SIDDOS      1512467 non-null  float64\n",
            " 36  NODE_NAME_TO_SIDDOS        1512467 non-null  float64\n",
            " 37  FLAGS_SIDDOS               1512467 non-null  float64\n",
            " 38  PKT_TYPE_SIDDOS            1512467 non-null  float64\n",
            "dtypes: float64(33), int64(6)\n",
            "memory usage: 461.6 MB\n"
          ],
          "name": "stdout"
        }
      ]
    },
    {
      "cell_type": "code",
      "metadata": {
        "id": "WcQM52uZU16o"
      },
      "source": [
        "#TODO try without scaling, try different scalers\n",
        "#normalize \n",
        "\n",
        "scaler = StandardScaler()\n",
        "X_train_scaled = scaler.fit_transform(X_train_enc)\n",
        "X_test_scaled = scaler.fit_transform(X_test_enc)"
      ],
      "execution_count": 13,
      "outputs": []
    },
    {
      "cell_type": "code",
      "metadata": {
        "colab": {
          "base_uri": "https://localhost:8080/"
        },
        "id": "AOR72JxOzkmC",
        "outputId": "d09cbc7f-94b9-4b4b-e318-1be25bf9ed7a"
      },
      "source": [
        "X_test_scaled"
      ],
      "execution_count": 14,
      "outputs": [
        {
          "output_type": "execute_result",
          "data": {
            "text/plain": [
              "array([[ 1.11952814, -1.19607929,  1.27748827, ..., -0.24040455,\n",
              "        -0.019877  , -0.6964335 ],\n",
              "       [-0.49851185,  0.71197053, -0.87051728, ..., -0.22056381,\n",
              "        -0.019877  ,  1.28836133],\n",
              "       [-0.38293756,  0.71197053,  0.35977584, ..., -0.25674982,\n",
              "        -0.019877  ,  1.28836133],\n",
              "       ...,\n",
              "       [-1.6542547 ,  0.71197053,  0.28308765, ..., -0.24040455,\n",
              "        -0.019877  ,  1.28836133],\n",
              "       [ 1.11952814, -1.43458551, -0.88417198, ..., -0.24040455,\n",
              "        -0.019877  , -0.6964335 ],\n",
              "       [-1.6542547 ,  0.71197053, -0.64767624, ..., -0.25674982,\n",
              "        -0.019877  ,  1.28836133]])"
            ]
          },
          "metadata": {
            "tags": []
          },
          "execution_count": 14
        }
      ]
    },
    {
      "cell_type": "markdown",
      "metadata": {
        "id": "lXCeMFtF2glh"
      },
      "source": [
        "The “lbfgs”, “sag” and “newton-cg” solvers only support \n",
        " regularization or no regularization, and are found to converge faster for some high-dimensional data. Setting multi_class to “multinomial” with these solvers learns a true multinomial logistic regression model, which means that its probability estimates should be better calibrated than the default “one-vs-rest” setting.\n",
        "\n",
        "The “sag” solver uses Stochastic Average Gradient descent (see https://hal.inria.fr/hal-00860051/document). It is faster than other solvers for large datasets, when both the number of samples and the number of features are large."
      ]
    },
    {
      "cell_type": "code",
      "metadata": {
        "colab": {
          "base_uri": "https://localhost:8080/"
        },
        "id": "yvf1WlRETWbZ",
        "outputId": "ba215d71-be7d-4481-a2ba-209bdf4b4cd2"
      },
      "source": [
        "#instantiate the model - multinomial w/ sag solver #TODO: fix, model is not converging\n",
        "'''\n",
        "result with c= 0.05 and max_iter =100\n",
        "array([[  1207,      0,     75,      0,      0],\n",
        "       [    13, 581075,     60,      0,      0],\n",
        "       [     0,    117,   1860,      0,      0],\n",
        "       [     9,   2490,     88,   1222,      0],\n",
        "       [     0,   5939,      0,      0,  54046]]) \n",
        "'''\n",
        "\n",
        "logreg = LogisticRegression(solver='sag', C=0.5, multi_class='multinomial', max_iter = 250,\n",
        "                          random_state=42)\n",
        "\n",
        "# fit the model with data\n",
        "logreg.fit(X_train_scaled, np.ravel(y_train, order = 'C')) #np.ravel is used to flatten the target afeature array, to avoid a DataConversionWarning\n",
        "\n",
        "#\n",
        "y_pred=logreg.predict(X_test_scaled)\n",
        "\n",
        "# import the metrics class\n",
        "from sklearn import metrics\n",
        "cnf_matrix = metrics.confusion_matrix(y_test, y_pred)\n",
        "cnf_matrix"
      ],
      "execution_count": 15,
      "outputs": [
        {
          "output_type": "stream",
          "text": [
            "/usr/local/lib/python3.6/dist-packages/sklearn/utils/validation.py:760: DataConversionWarning: A column-vector y was passed when a 1d array was expected. Please change the shape of y to (n_samples, ), for example using ravel().\n",
            "  y = column_or_1d(y, warn=True)\n",
            "/usr/local/lib/python3.6/dist-packages/sklearn/linear_model/_sag.py:330: ConvergenceWarning: The max_iter was reached which means the coef_ did not converge\n",
            "  \"the coef_ did not converge\", ConvergenceWarning)\n"
          ],
          "name": "stderr"
        },
        {
          "output_type": "execute_result",
          "data": {
            "text/plain": [
              "array([[  1207,      0,     75,      0,      0],\n",
              "       [    13, 581075,     60,      0,      0],\n",
              "       [     0,    117,   1860,      0,      0],\n",
              "       [     9,   2490,     88,   1222,      0],\n",
              "       [     0,   5939,      0,      0,  54046]])"
            ]
          },
          "metadata": {
            "tags": []
          },
          "execution_count": 15
        }
      ]
    },
    {
      "cell_type": "code",
      "metadata": {
        "colab": {
          "base_uri": "https://localhost:8080/"
        },
        "id": "7iDbUPH0ZAX-",
        "outputId": "32b847e6-e0f8-4d40-a67b-e75425309503"
      },
      "source": [
        "target_classes = np.unique(y_test, return_counts=True)\n",
        "\n",
        "from sklearn.metrics import classification_report\n",
        "print(classification_report(y_test, y_pred, target_names=target_classes[0]))"
      ],
      "execution_count": 23,
      "outputs": [
        {
          "output_type": "stream",
          "text": [
            "              precision    recall  f1-score   support\n",
            "\n",
            "  HTTP-FLOOD       0.98      0.94      0.96      1282\n",
            "      Normal       0.99      1.00      0.99    581148\n",
            "      SIDDOS       0.89      0.94      0.92      1977\n",
            "       Smurf       1.00      0.32      0.49      3809\n",
            "   UDP-Flood       1.00      0.90      0.95     59985\n",
            "\n",
            "    accuracy                           0.99    648201\n",
            "   macro avg       0.97      0.82      0.86    648201\n",
            "weighted avg       0.99      0.99      0.99    648201\n",
            "\n"
          ],
          "name": "stdout"
        }
      ]
    },
    {
      "cell_type": "markdown",
      "metadata": {
        "id": "rHtebkfxfTbg"
      },
      "source": [
        "Intuitively, precision is the ability of the classifier not to label as positive a sample that is negative, and recall is the ability of the classifier to find all the positive samples.\n",
        "\n",
        "The F-measure (Fbeta and F1 measures) can be interpreted as a weighted harmonic mean of the precision and recall. A Fbeta measure reaches its best value at 1 and its worst score at 0. With beta=0, Fbeta and F1 are equivalent, and the recall and the precision are equally important.\n",
        "\n",
        "The precision_recall_curve computes a precision-recall curve from the ground truth label and a score given by the classifier by varying a decision threshold.\n",
        "\n",
        "The average_precision_score function computes the average precision (AP) from prediction scores. The value is between 0 and 1 and higher is better. With random predictions, the AP is the fraction of positive samples.\n",
        "\n",
        "References [Manning2008] and [Everingham2010] present alternative variants of AP that interpolate the precision-recall curve. Currently, average_precision_score does not implement any interpolated variant. References [Davis2006] and [Flach2015] describe why a linear interpolation of points on the precision-recall curve provides an overly-optimistic measure of classifier performance. This linear interpolation is used when computing area under the curve with the trapezoidal rule in auc.\n",
        "\n",
        "See also https://scikit-learn.org/stable/modules/model_evaluation.html#multiclass-and-multilabel-classification"
      ]
    },
    {
      "cell_type": "code",
      "metadata": {
        "colab": {
          "base_uri": "https://localhost:8080/"
        },
        "id": "HlhwURrtaO3v",
        "outputId": "f0ef1953-4756-4d6a-e5f1-7898b5d66201"
      },
      "source": [
        "print(\"Accuracy:\",metrics.accuracy_score(y_test, y_pred))\n",
        "print(\"Precision:\",metrics.precision_score(y_test, y_pred, average=\"weighted\"))\n",
        "print(\"Recall:\",metrics.recall_score(y_test, y_pred, average = \"weighted\"))"
      ],
      "execution_count": 20,
      "outputs": [
        {
          "output_type": "stream",
          "text": [
            "Accuracy: 0.9864378487537044\n",
            "Precision: 0.986643352071877\n",
            "Recall: 0.9864378487537044\n"
          ],
          "name": "stdout"
        }
      ]
    },
    {
      "cell_type": "markdown",
      "metadata": {
        "id": "VzJyHREOhX3N"
      },
      "source": [
        "Precision-Recall Trade-off\n",
        "When building a classification model, we need to consider both precision and recall. It is always possible to increase one value at the expense of the other (recall-focussed model/precision-focussed model)"
      ]
    },
    {
      "cell_type": "code",
      "metadata": {
        "colab": {
          "base_uri": "https://localhost:8080/"
        },
        "id": "u9hieJBtnmc7",
        "outputId": "440fa79f-42da-428b-812f-f02df9946c5c"
      },
      "source": [
        "logreg.predict_log_proba(X_test_scaled)"
      ],
      "execution_count": 31,
      "outputs": [
        {
          "output_type": "execute_result",
          "data": {
            "text/plain": [
              "array([[-12.86770013,  -0.01483056,  -8.94870411,  -5.51344323,\n",
              "         -4.55101892],\n",
              "       [-12.12136262,  -0.01447118,  -9.0132526 ,  -5.53980764,\n",
              "         -4.57440147],\n",
              "       [-12.43695299,  -0.01464863,  -8.70426895,  -5.51956874,\n",
              "         -4.56937469],\n",
              "       ...,\n",
              "       [-10.58954292,  -0.01452914,  -8.47362062,  -5.5314572 ,\n",
              "         -4.5824503 ],\n",
              "       [-13.2414347 ,  -0.0145437 ,  -8.76370039,  -5.49550592,\n",
              "         -4.58780264],\n",
              "       [-10.32031095,  -0.01486031,  -8.10861068,  -5.44525921,\n",
              "         -4.5952371 ]])"
            ]
          },
          "metadata": {
            "tags": []
          },
          "execution_count": 31
        }
      ]
    },
    {
      "cell_type": "code",
      "metadata": {
        "id": "SUJGBn0ThqgC"
      },
      "source": [
        "#todo: variable analysis to selet new set of features"
      ],
      "execution_count": null,
      "outputs": []
    },
    {
      "cell_type": "code",
      "metadata": {
        "id": "QEr71i8FTnly"
      },
      "source": [
        "#todo:\n",
        "#fit different models and compare through a loop"
      ],
      "execution_count": null,
      "outputs": []
    },
    {
      "cell_type": "code",
      "metadata": {
        "id": "_UoqnLbEgmh0"
      },
      "source": [
        "#todo visualizations"
      ],
      "execution_count": null,
      "outputs": []
    }
  ]
}