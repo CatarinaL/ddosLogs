{
  "nbformat": 4,
  "nbformat_minor": 0,
  "metadata": {
    "colab": {
      "name": "class_balance_and_redimensioning.ipynb",
      "provenance": [],
      "collapsed_sections": [],
      "authorship_tag": "ABX9TyO7jn3MSCuWU/hCscTvo/6S",
      "include_colab_link": true
    },
    "kernelspec": {
      "name": "python3",
      "display_name": "Python 3"
    }
  },
  "cells": [
    {
      "cell_type": "markdown",
      "metadata": {
        "id": "view-in-github",
        "colab_type": "text"
      },
      "source": [
        "<a href=\"https://colab.research.google.com/github/CatarinaL/ddosLogs/blob/master/class_balance_and_redimensioning.ipynb\" target=\"_parent\"><img src=\"https://colab.research.google.com/assets/colab-badge.svg\" alt=\"Open In Colab\"/></a>"
      ]
    },
    {
      "cell_type": "markdown",
      "metadata": {
        "id": "VhuoSoIF3TnZ"
      },
      "source": [
        "Imports"
      ]
    },
    {
      "cell_type": "code",
      "metadata": {
        "colab": {
          "base_uri": "https://localhost:8080/"
        },
        "id": "l5g75_mLzYQv",
        "outputId": "f81fea92-122c-494a-ee84-6b05564454d8"
      },
      "source": [
        "!pip install category_encoders\n",
        "\n",
        "import numpy as np\n",
        "import pandas as pd\n",
        "from scipy.io import arff\n",
        "import matplotlib.pyplot as plt\n",
        "import seaborn as sns\n",
        "\n",
        "from sklearn.preprocessing import StandardScaler\n",
        "from sklearn.model_selection import train_test_split\n",
        "\n",
        "import category_encoders as ce\n",
        "from category_encoders.wrapper import PolynomialWrapper"
      ],
      "execution_count": 1,
      "outputs": [
        {
          "output_type": "stream",
          "text": [
            "Collecting category_encoders\n",
            "\u001b[?25l  Downloading https://files.pythonhosted.org/packages/44/57/fcef41c248701ee62e8325026b90c432adea35555cbc870aff9cfba23727/category_encoders-2.2.2-py2.py3-none-any.whl (80kB)\n",
            "\r\u001b[K     |████                            | 10kB 17.0MB/s eta 0:00:01\r\u001b[K     |████████▏                       | 20kB 21.8MB/s eta 0:00:01\r\u001b[K     |████████████▏                   | 30kB 17.2MB/s eta 0:00:01\r\u001b[K     |████████████████▎               | 40kB 11.8MB/s eta 0:00:01\r\u001b[K     |████████████████████▎           | 51kB 8.5MB/s eta 0:00:01\r\u001b[K     |████████████████████████▍       | 61kB 9.1MB/s eta 0:00:01\r\u001b[K     |████████████████████████████▍   | 71kB 9.0MB/s eta 0:00:01\r\u001b[K     |████████████████████████████████| 81kB 5.2MB/s \n",
            "\u001b[?25hRequirement already satisfied: numpy>=1.14.0 in /usr/local/lib/python3.6/dist-packages (from category_encoders) (1.18.5)\n",
            "Requirement already satisfied: patsy>=0.5.1 in /usr/local/lib/python3.6/dist-packages (from category_encoders) (0.5.1)\n",
            "Requirement already satisfied: statsmodels>=0.9.0 in /usr/local/lib/python3.6/dist-packages (from category_encoders) (0.10.2)\n",
            "Requirement already satisfied: scipy>=1.0.0 in /usr/local/lib/python3.6/dist-packages (from category_encoders) (1.4.1)\n",
            "Requirement already satisfied: scikit-learn>=0.20.0 in /usr/local/lib/python3.6/dist-packages (from category_encoders) (0.22.2.post1)\n",
            "Requirement already satisfied: pandas>=0.21.1 in /usr/local/lib/python3.6/dist-packages (from category_encoders) (1.1.4)\n",
            "Requirement already satisfied: six in /usr/local/lib/python3.6/dist-packages (from patsy>=0.5.1->category_encoders) (1.15.0)\n",
            "Requirement already satisfied: joblib>=0.11 in /usr/local/lib/python3.6/dist-packages (from scikit-learn>=0.20.0->category_encoders) (0.17.0)\n",
            "Requirement already satisfied: python-dateutil>=2.7.3 in /usr/local/lib/python3.6/dist-packages (from pandas>=0.21.1->category_encoders) (2.8.1)\n",
            "Requirement already satisfied: pytz>=2017.2 in /usr/local/lib/python3.6/dist-packages (from pandas>=0.21.1->category_encoders) (2018.9)\n",
            "Installing collected packages: category-encoders\n",
            "Successfully installed category-encoders-2.2.2\n"
          ],
          "name": "stdout"
        },
        {
          "output_type": "stream",
          "text": [
            "/usr/local/lib/python3.6/dist-packages/statsmodels/tools/_testing.py:19: FutureWarning: pandas.util.testing is deprecated. Use the functions in the public API at pandas.testing instead.\n",
            "  import pandas.util.testing as tm\n"
          ],
          "name": "stderr"
        }
      ]
    },
    {
      "cell_type": "markdown",
      "metadata": {
        "id": "nafhWFGA3ZRO"
      },
      "source": [
        "Data files are relatively large and I saved them to my google drive (saves time uploading them to use on colab). Originally obtained from: https://www.kaggle.com/jacobvs/ddos-attack-network-logs"
      ]
    },
    {
      "cell_type": "code",
      "metadata": {
        "colab": {
          "base_uri": "https://localhost:8080/"
        },
        "id": "hTDnN9ZNpoN-",
        "outputId": "5e98c2c3-e5c3-46e6-84e0-9114b86408b8"
      },
      "source": [
        "from google.colab import drive\n",
        "drive.mount('/content/drive', force_remount=True)\n",
        "\n",
        "np.random.seed(123)\n",
        "file = \"/content/drive/MyDrive/datasets/ddosLogs/final-dataset.arff\"\n",
        "\n",
        "data, meta = arff.loadarff(file)\n",
        "df = pd.DataFrame(data=data)\n",
        "df.info"
      ],
      "execution_count": 2,
      "outputs": [
        {
          "output_type": "stream",
          "text": [
            "Mounted at /content/drive\n"
          ],
          "name": "stdout"
        },
        {
          "output_type": "execute_result",
          "data": {
            "text/plain": [
              "<bound method DataFrame.info of          SRC_ADD  DES_ADD  ...  LAST_PKT_RESEVED     PKT_CLASS\n",
              "0           3.00    24.30  ...         50.021920     b'Normal'\n",
              "1          15.00    24.15  ...         50.030211     b'Normal'\n",
              "2          24.15    15.00  ...         50.060221  b'UDP-Flood'\n",
              "3          24.90     9.00  ...         50.060098     b'Normal'\n",
              "4          24.80     8.00  ...         50.061864     b'Normal'\n",
              "...          ...      ...  ...               ...           ...\n",
              "2160663    24.10    10.00  ...         50.040562     b'Normal'\n",
              "2160664    24.12    12.00  ...         50.051067     b'Normal'\n",
              "2160665     1.00    24.10  ...         50.013418     b'Normal'\n",
              "2160666     5.00    24.50  ...         50.027339     b'Normal'\n",
              "2160667    15.00    24.15  ...         50.030211     b'Normal'\n",
              "\n",
              "[2160668 rows x 28 columns]>"
            ]
          },
          "metadata": {
            "tags": []
          },
          "execution_count": 2
        }
      ]
    },
    {
      "cell_type": "markdown",
      "metadata": {
        "id": "d0z8G_ve3I-O"
      },
      "source": [
        "Preprocessing: string formatting and type conversions"
      ]
    },
    {
      "cell_type": "code",
      "metadata": {
        "id": "-gaoIktr1d5G"
      },
      "source": [
        "df2 = df.copy()\n",
        "#decode byte strings to remove the \"b\" before the srting values at cols PKT_CLASS, NODE_NAME_FROM, NODE_NAME_TO, FLAGS, PKT_TYPE \n",
        "categoricals = [\"NODE_NAME_FROM\", \"NODE_NAME_TO\", \"FLAGS\", \"PKT_TYPE\", \"PKT_CLASS\"]\n",
        "for categorical in categoricals:\n",
        "  df2[categorical] = df2[categorical].apply(lambda x: x.decode('utf-8')).astype(\"category\") \n",
        "\n",
        "intgs = [\"SRC_ADD\", \"DES_ADD\", \"PKT_ID\", \"FROM_NODE\", \"TO_NODE\", \"FID\"]\n",
        "for intg in intgs:\n",
        "  df2[intg] = df2[intg].astype('int64')"
      ],
      "execution_count": 3,
      "outputs": []
    },
    {
      "cell_type": "markdown",
      "metadata": {
        "id": "SqK8oAuk2-jj"
      },
      "source": [
        "Looking at the imbalace in target class"
      ]
    },
    {
      "cell_type": "code",
      "metadata": {
        "colab": {
          "base_uri": "https://localhost:8080/",
          "height": 497
        },
        "id": "SEIjivKoET7W",
        "outputId": "58655f1d-6f36-42f9-cab8-2abcabe80b79"
      },
      "source": [
        "import math\n",
        "fig, ax = plt.subplots(figsize=(7,7)) \n",
        "\n",
        "df2['PKT_CLASS'].value_counts().plot.bar(logy=True, subplots=True, )\n",
        "\n",
        "for i, v in enumerate(df2['PKT_CLASS'].value_counts()):\n",
        "    ax.text(i - .25, (ax.patches[i].get_height() + math.log(v)*v*0.01), str(v), \n",
        "            color='black', fontweight='bold')\n",
        "\n"
      ],
      "execution_count": 70,
      "outputs": [
        {
          "output_type": "display_data",
          "data": {
            "image/png": "[encoded data removed]",
            "text/plain": [
              "<Figure size 504x504 with 1 Axes>"
            ]
          },
          "metadata": {
            "tags": [],
            "needs_background": "light"
          }
        }
      ]
    },
    {
      "cell_type": "code",
      "metadata": {
        "colab": {
          "base_uri": "https://localhost:8080/",
          "height": 635
        },
        "id": "vn0vEZ0m1mXH",
        "outputId": "d7b94fac-36eb-4040-d6cb-6e24a1d070bc"
      },
      "source": [
        "class_type=pd.pivot_table(df2[['PKT_CLASS', 'PKT_TYPE']], index=[\"PKT_TYPE\"], columns=\"PKT_CLASS\", aggfunc=np.count_nonzero).fillna(0).astype(int)\n",
        "class_type.plot.bar(stacked=True, logy=True, figsize=(10,10))"
      ],
      "execution_count": 5,
      "outputs": [
        {
          "output_type": "execute_result",
          "data": {
            "text/plain": [
              "<matplotlib.axes._subplots.AxesSubplot at 0x7f1f39ce6358>"
            ]
          },
          "metadata": {
            "tags": []
          },
          "execution_count": 5
        },
        {
          "output_type": "display_data",
          "data": {
            "image/png": "[encoded data removed]",
            "text/plain": [
              "<Figure size 720x720 with 1 Axes>"
            ]
          },
          "metadata": {
            "tags": [],
            "needs_background": "light"
          }
        }
      ]
    },
    {
      "cell_type": "code",
      "metadata": {
        "id": "tC2EUIqK6QZg"
      },
      "source": [
        "X = df2.iloc[:, 0:-1]\n",
        "y = df2.iloc[:, [-1]]"
      ],
      "execution_count": null,
      "outputs": []
    },
    {
      "cell_type": "markdown",
      "metadata": {
        "id": "mQb6VKTaCzfU"
      },
      "source": [
        "We could probably undersample the bigger classes, or maybe even try a mix of SMOTE/ROSE with undersampling of the \"Normal\" class\n",
        "\n",
        "Anyway, this needs to be validated for each model"
      ]
    },
    {
      "cell_type": "code",
      "metadata": {
        "id": "oarF5w3CDOH3"
      },
      "source": [
        "#resampling methods from scikit\n",
        "from sklearn.utils import resample"
      ],
      "execution_count": null,
      "outputs": []
    }
  ]
}